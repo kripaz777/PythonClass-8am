{
 "cells": [
  {
   "cell_type": "code",
   "execution_count": 1,
   "id": "f5e357e7",
   "metadata": {},
   "outputs": [
    {
     "name": "stdout",
     "output_type": "stream",
     "text": [
      "Requirement already satisfied: mysql-connector in c:\\users\\aayush\\anaconda3\\lib\\site-packages (2.2.9)\n"
     ]
    }
   ],
   "source": [
    "!pip install mysql-connector"
   ]
  },
  {
   "cell_type": "code",
   "execution_count": 8,
   "id": "704a078c",
   "metadata": {},
   "outputs": [],
   "source": [
    "import mysql.connector  #importing database\n",
    "database = mysql.connector.connect(\n",
    "    host=\"localhost\",\n",
    "    user=\"root\",\n",
    "    password=\"\",\n",
    "    database = \"pythonclass8am\"\n",
    ")\n",
    "db = database.cursor()"
   ]
  },
  {
   "cell_type": "code",
   "execution_count": null,
   "id": "e683a749",
   "metadata": {},
   "outputs": [],
   "source": []
  },
  {
   "cell_type": "code",
   "execution_count": 9,
   "id": "3f6a18e9",
   "metadata": {},
   "outputs": [
    {
     "data": {
      "text/plain": [
       "[(1, 'Shyam', 78, 76, 90, 67, 89, 412, 82.5, 'A'),\n",
       " (2, 'Ram', 78, 87, 67, 89, 87, 450, 85.5, 'A'),\n",
       " (3, 'Sabin', 78, 89, 89, 45, 67, 400, 81.4, 'B')]"
      ]
     },
     "execution_count": 9,
     "metadata": {},
     "output_type": "execute_result"
    }
   ],
   "source": [
    "db.execute(\"SELECT * FROM student\")\n",
    "result = db.fetchall()\n",
    "# for x in result:\n",
    "#     print(x)\n",
    "result"
   ]
  },
  {
   "cell_type": "code",
   "execution_count": 17,
   "id": "53774e4f",
   "metadata": {},
   "outputs": [
    {
     "data": {
      "text/plain": [
       "[(1, 'Shyam'), (2, 'Ram'), (3, 'Sabin'), (4, 'Shyam'), (5, 'Shyama')]"
      ]
     },
     "execution_count": 17,
     "metadata": {},
     "output_type": "execute_result"
    }
   ],
   "source": [
    "db.execute(\"SELECT sn,name FROM student\")\n",
    "result = db.fetchall()\n",
    "# for x in result:\n",
    "#     print(x)\n",
    "result"
   ]
  },
  {
   "cell_type": "code",
   "execution_count": 10,
   "id": "2240ddb8",
   "metadata": {},
   "outputs": [
    {
     "data": {
      "text/plain": [
       "[(1, 'Shyam', 78, 76, 90, 67, 89, 412, 82.5, 'A'),\n",
       " (2, 'Ram', 78, 87, 67, 89, 87, 450, 85.5, 'A')]"
      ]
     },
     "execution_count": 10,
     "metadata": {},
     "output_type": "execute_result"
    }
   ],
   "source": [
    "db.execute(\"SELECT * FROM student WHERE grade = 'A'\")\n",
    "result = db.fetchall()\n",
    "# for x in result:\n",
    "#     print(x)\n",
    "result"
   ]
  },
  {
   "cell_type": "code",
   "execution_count": 11,
   "id": "83236021",
   "metadata": {},
   "outputs": [
    {
     "data": {
      "text/plain": [
       "[(1, 'Shyam', 78, 76, 90, 67, 89, 412, 82.5, 'A')]"
      ]
     },
     "execution_count": 11,
     "metadata": {},
     "output_type": "execute_result"
    }
   ],
   "source": [
    "db.execute(\"SELECT * FROM student WHERE grade = 'A' and math > 70\")\n",
    "result = db.fetchall()\n",
    "# for x in result:\n",
    "#     print(x)\n",
    "result"
   ]
  },
  {
   "cell_type": "code",
   "execution_count": 12,
   "id": "1ed3e754",
   "metadata": {},
   "outputs": [],
   "source": [
    "# INSERT INTO `student` (`sn`, `name`, `physics`, `chemistry`, `math`, `english`, `nepali`, `total`, `per`, `grade`) VALUES ('4', 'Shyam', '78', '60', '65', '70', '78', '410', '81.4', 'A');\n",
    "sql = '''INSERT INTO student ( name, physics, chemistry, math, english, nepali, total, per, grade) \n",
    "VALUES ('Shyam', 78, 60, 75, 70, 78, 410, 81.4, 'A')'''\n",
    "db.execute(sql)\n",
    "database.commit()"
   ]
  },
  {
   "cell_type": "code",
   "execution_count": 13,
   "id": "f9d4809d",
   "metadata": {},
   "outputs": [
    {
     "name": "stdout",
     "output_type": "stream",
     "text": [
      "Enter name = Sabin\n",
      "Enter physics marks = 90\n",
      "Enter chemistry marks = 87\n",
      "Enter math marks = 67\n",
      "Enter english marks = 89\n",
      "Enter nepali marks = 67\n",
      "Your Total =  400\n",
      "Your Per =  80.0\n",
      "Your Grade =  A\n",
      "INSERT INTO student ( name, physics, chemistry, math, english, nepali, total, per, grade) \n",
      "VALUES ('Sabin', 90, 87, 67, 89, 67, 400, 80.0, 'A')\n"
     ]
    }
   ],
   "source": [
    "name = input(\"Enter name = \")\n",
    "physics = int(input(\"Enter physics marks = \"))\n",
    "chemistry = int(input(\"Enter chemistry marks = \"))\n",
    "math = int(input(\"Enter math marks = \"))\n",
    "english = int(input(\"Enter english marks = \"))\n",
    "nepali = int(input(\"Enter nepali marks = \"))\n",
    "\n",
    "total = physics + chemistry + math + english + nepali\n",
    "per = total/5\n",
    "\n",
    "if per >= 80:\n",
    "    grade = \"A\"\n",
    "elif per >=60:\n",
    "    grade = \"B\"\n",
    "elif per >= 45:\n",
    "    grade = \"C\"\n",
    "else:\n",
    "    grade = \"F\"\n",
    "    \n",
    "print(\"Your Total = \",total)\n",
    "print(\"Your Per = \",per)\n",
    "print(\"Your Grade = \",grade)\n",
    "\n",
    "sql = f'''INSERT INTO student ( name, physics, chemistry, math, english, nepali, total, per, grade) \n",
    "VALUES ('{name}', {physics}, {chemistry}, {math}, {english}, {nepali}, {total}, {per}, '{grade}')'''\n",
    "db.execute(sql)\n",
    "database.commit()\n",
    "print(sql)"
   ]
  },
  {
   "cell_type": "code",
   "execution_count": 14,
   "id": "530ad283",
   "metadata": {},
   "outputs": [
    {
     "name": "stdout",
     "output_type": "stream",
     "text": [
      "DELETE FROM student WHERE sn = 6\n"
     ]
    }
   ],
   "source": [
    "sql = f'''DELETE FROM student WHERE sn = 6'''\n",
    "db.execute(sql)\n",
    "database.commit()\n",
    "print(sql)"
   ]
  },
  {
   "cell_type": "code",
   "execution_count": 15,
   "id": "0d9f1549",
   "metadata": {},
   "outputs": [
    {
     "name": "stdout",
     "output_type": "stream",
     "text": [
      "UPDATE  student SET name = 'Shyama' WHERE sn = 5\n"
     ]
    }
   ],
   "source": [
    "sql = f'''UPDATE  student SET name = 'Shyama' WHERE sn = 5'''\n",
    "db.execute(sql)\n",
    "database.commit()\n",
    "print(sql)"
   ]
  },
  {
   "cell_type": "code",
   "execution_count": null,
   "id": "447d737f",
   "metadata": {},
   "outputs": [],
   "source": []
  }
 ],
 "metadata": {
  "kernelspec": {
   "display_name": "Python 3 (ipykernel)",
   "language": "python",
   "name": "python3"
  },
  "language_info": {
   "codemirror_mode": {
    "name": "ipython",
    "version": 3
   },
   "file_extension": ".py",
   "mimetype": "text/x-python",
   "name": "python",
   "nbconvert_exporter": "python",
   "pygments_lexer": "ipython3",
   "version": "3.9.12"
  }
 },
 "nbformat": 4,
 "nbformat_minor": 5
}
