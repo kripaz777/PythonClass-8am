{
 "cells": [
  {
   "cell_type": "code",
   "execution_count": 1,
   "id": "ffed4557",
   "metadata": {},
   "outputs": [],
   "source": [
    "# Dictionary\n",
    "# -Indexing\n",
    "# -Multiple and duplicate values\n",
    "# -Ordered\n",
    "# -Mutable"
   ]
  },
  {
   "cell_type": "code",
   "execution_count": 2,
   "id": "0e02e09c",
   "metadata": {},
   "outputs": [],
   "source": [
    "# d = {}\n",
    "# a = {<key>:<value>,<key>:<value>,...}\n"
   ]
  },
  {
   "cell_type": "code",
   "execution_count": 7,
   "id": "446d4840",
   "metadata": {},
   "outputs": [
    {
     "name": "stdout",
     "output_type": "stream",
     "text": [
      "<class 'dict'>\n",
      "apple\n",
      "Ball\n",
      "cat\n"
     ]
    }
   ],
   "source": [
    "a = {'a':'apple','b':'Ball','c':'cat'}\n",
    "print(type(a))\n",
    "print(a['a'])\n",
    "print(a['b'])\n",
    "print(a['c'])"
   ]
  },
  {
   "cell_type": "code",
   "execution_count": 8,
   "id": "059432b1",
   "metadata": {},
   "outputs": [
    {
     "name": "stdout",
     "output_type": "stream",
     "text": [
      "{'a': 'apple', 'b': 'Ball', 'c': 'cat', 'A': 'apple'}\n"
     ]
    }
   ],
   "source": [
    "a = {'a':'apple','b':'Ball','c':'cat','A':'apple'}\n",
    "print(a)"
   ]
  },
  {
   "cell_type": "code",
   "execution_count": 10,
   "id": "8122e10f",
   "metadata": {},
   "outputs": [
    {
     "name": "stdout",
     "output_type": "stream",
     "text": [
      "{'a': 'Apple', 'b': 'Ball', 'c': 'cat'}\n"
     ]
    }
   ],
   "source": [
    "a = {'a':'apple','b':'Ball','c':'cat','a':'apple'}\n",
    "print(a)"
   ]
  },
  {
   "cell_type": "code",
   "execution_count": 11,
   "id": "6d6e30d3",
   "metadata": {},
   "outputs": [
    {
     "name": "stdout",
     "output_type": "stream",
     "text": [
      "{'a': 'apple', 'b': 'Ball', 'c': 'cat', 'A': 'apple'}\n"
     ]
    }
   ],
   "source": [
    "a = {'a':'apple','b':'Ball','c':'cat','A':'apple'}\n",
    "print(a)"
   ]
  },
  {
   "cell_type": "code",
   "execution_count": null,
   "id": "fc45afce",
   "metadata": {},
   "outputs": [],
   "source": [
    "# No + and *"
   ]
  },
  {
   "cell_type": "code",
   "execution_count": 12,
   "id": "90ac0a73",
   "metadata": {},
   "outputs": [
    {
     "name": "stdout",
     "output_type": "stream",
     "text": [
      "a\n",
      "b\n",
      "c\n",
      "A\n"
     ]
    }
   ],
   "source": [
    "a = {'a':'apple','b':'Ball','c':'cat','A':'apple'}\n",
    "for i in a:\n",
    "    print(i)"
   ]
  },
  {
   "cell_type": "code",
   "execution_count": 13,
   "id": "2bf1f20a",
   "metadata": {},
   "outputs": [
    {
     "name": "stdout",
     "output_type": "stream",
     "text": [
      "apple\n",
      "Ball\n",
      "cat\n",
      "apple\n"
     ]
    }
   ],
   "source": [
    "a = {'a':'apple','b':'Ball','c':'cat','A':'apple'}\n",
    "for i in a.values():\n",
    "    print(i)"
   ]
  },
  {
   "cell_type": "code",
   "execution_count": 14,
   "id": "165595d8",
   "metadata": {},
   "outputs": [
    {
     "data": {
      "text/plain": [
       "dict_values(['apple', 'Ball', 'cat', 'apple'])"
      ]
     },
     "execution_count": 14,
     "metadata": {},
     "output_type": "execute_result"
    }
   ],
   "source": [
    "a = {'a':'apple','b':'Ball','c':'cat','A':'apple'}\n",
    "a.values()"
   ]
  },
  {
   "cell_type": "code",
   "execution_count": 15,
   "id": "f600560c",
   "metadata": {},
   "outputs": [
    {
     "name": "stdout",
     "output_type": "stream",
     "text": [
      "('a', 'apple')\n",
      "('b', 'Ball')\n",
      "('c', 'cat')\n",
      "('A', 'apple')\n"
     ]
    }
   ],
   "source": [
    "a = {'a':'apple','b':'Ball','c':'cat','A':'apple'}\n",
    "for i in a.items():\n",
    "    print(i)"
   ]
  },
  {
   "cell_type": "code",
   "execution_count": 17,
   "id": "f9adeacd",
   "metadata": {},
   "outputs": [
    {
     "name": "stdout",
     "output_type": "stream",
     "text": [
      "[('a', 'apple'), ('b', 'Ball'), ('c', 'cat'), ('A', 'apple')]\n",
      "{'a': 'apple', 'b': 'Ball', 'c': 'cat', 'A': 'apple'}\n"
     ]
    }
   ],
   "source": [
    "l = []\n",
    "a = {'a':'apple','b':'Ball','c':'cat','A':'apple'}\n",
    "for i in a.items():\n",
    "    l.append(i)\n",
    "print(l)\n",
    "print(dict(l))"
   ]
  },
  {
   "cell_type": "code",
   "execution_count": 20,
   "id": "24d381cf",
   "metadata": {},
   "outputs": [
    {
     "data": {
      "text/plain": [
       "{'a': 'Apple', 'b': 'Ball', 'c': 'Cat'}"
      ]
     },
     "execution_count": 20,
     "metadata": {},
     "output_type": "execute_result"
    }
   ],
   "source": [
    "d = {}\n",
    "d['a'] = 'Apple'\n",
    "d['b'] = 'Ball'\n",
    "d['c'] = 'Cat'\n",
    "d"
   ]
  },
  {
   "cell_type": "code",
   "execution_count": 22,
   "id": "72fcac29",
   "metadata": {},
   "outputs": [
    {
     "data": {
      "text/plain": [
       "{'a': 'apple', 'b': 'Ball', 'c': 'Cat'}"
      ]
     },
     "execution_count": 22,
     "metadata": {},
     "output_type": "execute_result"
    }
   ],
   "source": [
    "a = {'a': 'Apple', 'b': 'Ball', 'c': 'Cat'}\n",
    "a['a'] = 'apple'\n",
    "a"
   ]
  },
  {
   "cell_type": "code",
   "execution_count": 1,
   "id": "4efe58d5",
   "metadata": {},
   "outputs": [
    {
     "name": "stdout",
     "output_type": "stream",
     "text": [
      "Enput n = 2\n",
      "Enter name = Ram\n",
      "Enter phone = 9808778765\n",
      "Enter name = Shyam\n",
      "Enter phone = 9808667654\n",
      "{9808778765: 'Ram', 9808667654: 'Shyam'}\n"
     ]
    }
   ],
   "source": [
    "data = {}\n",
    "n = int(input(\"Enput n = \"))\n",
    "for i in range(n):\n",
    "    name = input(\"Enter name = \")\n",
    "    phone = int(input(\"Enter phone = \"))\n",
    "    data[phone] = name\n",
    "\n",
    "print(data)"
   ]
  },
  {
   "cell_type": "code",
   "execution_count": 3,
   "id": "7f0e67c6",
   "metadata": {},
   "outputs": [
    {
     "name": "stdout",
     "output_type": "stream",
     "text": [
      "{'A': 'apple', 'b': 'Ball', 'c': 'cat'}\n"
     ]
    }
   ],
   "source": [
    "l = []\n",
    "a = {'a':'apple','b':'Ball','c':'cat','A':'apple'}\n",
    "for i in a.items():\n",
    "    l.append(list(i))\n",
    "l[0][0] = 'A'\n",
    "print(dict(l))"
   ]
  },
  {
   "cell_type": "code",
   "execution_count": null,
   "id": "94c2d475",
   "metadata": {},
   "outputs": [],
   "source": [
    "# input\n",
    "# read\n",
    "# update\n",
    "# del"
   ]
  },
  {
   "cell_type": "code",
   "execution_count": 12,
   "id": "cee84362",
   "metadata": {},
   "outputs": [
    {
     "data": {
      "text/plain": [
       "['a', 'b', 'c', 'A']"
      ]
     },
     "execution_count": 12,
     "metadata": {},
     "output_type": "execute_result"
    }
   ],
   "source": [
    "a = {'a':'apple','b':'Ball','c':'cat','A':'apple'}\n",
    "list(a)"
   ]
  },
  {
   "cell_type": "code",
   "execution_count": 11,
   "id": "3b0c6024",
   "metadata": {},
   "outputs": [
    {
     "data": {
      "text/plain": [
       "['apple', 'Ball', 'cat', 'apple']"
      ]
     },
     "execution_count": 11,
     "metadata": {},
     "output_type": "execute_result"
    }
   ],
   "source": [
    "a = {'a':'apple','b':'Ball','c':'cat','A':'apple'}\n",
    "list(a.values())"
   ]
  },
  {
   "cell_type": "code",
   "execution_count": 13,
   "id": "505eabc1",
   "metadata": {},
   "outputs": [
    {
     "data": {
      "text/plain": [
       "[('a', 'apple'), ('b', 'Ball'), ('c', 'cat'), ('A', 'apple')]"
      ]
     },
     "execution_count": 13,
     "metadata": {},
     "output_type": "execute_result"
    }
   ],
   "source": [
    "a = {'a':'apple','b':'Ball','c':'cat','A':'apple'}\n",
    "list(a.items())"
   ]
  },
  {
   "cell_type": "code",
   "execution_count": 6,
   "id": "60ef42f5",
   "metadata": {},
   "outputs": [
    {
     "data": {
      "text/plain": [
       "{'b': 'Ball', 'c': 'cat', 'A': 'apple'}"
      ]
     },
     "execution_count": 6,
     "metadata": {},
     "output_type": "execute_result"
    }
   ],
   "source": [
    "a = {'a':'apple','b':'Ball','c':'cat','A':'apple'}\n",
    "del a['a']\n",
    "a"
   ]
  },
  {
   "cell_type": "code",
   "execution_count": 8,
   "id": "f3a049b2",
   "metadata": {},
   "outputs": [
    {
     "name": "stdout",
     "output_type": "stream",
     "text": [
      "{'b': 'Ball', 'c': 'cat', 'A': 'apple'}\n",
      "apple\n"
     ]
    }
   ],
   "source": [
    "a = {'a':'apple','b':'Ball','c':'cat','A':'apple'}\n",
    "b = a.pop('a')\n",
    "print(a)\n",
    "print(b)"
   ]
  },
  {
   "cell_type": "code",
   "execution_count": 14,
   "id": "df10d038",
   "metadata": {},
   "outputs": [
    {
     "data": {
      "text/plain": [
       "dict"
      ]
     },
     "execution_count": 14,
     "metadata": {},
     "output_type": "execute_result"
    }
   ],
   "source": [
    "# list inside dictionary\n",
    "d = {'Ram':[9845667898,9808778765],\n",
    "    'Sita':[9867889876,9808667653],\n",
    "    'Hari':[9845667643,9808778765]}\n",
    "type(d)"
   ]
  },
  {
   "cell_type": "code",
   "execution_count": 15,
   "id": "110e3888",
   "metadata": {},
   "outputs": [
    {
     "name": "stdout",
     "output_type": "stream",
     "text": [
      "Enput n = 2\n",
      "Enter name = ram\n",
      "Enter ntc phone no = 9845667654\n",
      "Enter ncell phone no = 9808778765\n",
      "Enter name = Shyam\n",
      "Enter ntc phone no = 9845667654\n",
      "Enter ncell phone no = 9808667654\n",
      "{'ram': [9845667654, 9808778765], 'Shyam': [9845667654, 9808667654]}\n"
     ]
    }
   ],
   "source": [
    "data = {}\n",
    "n = int(input(\"Enput n = \"))\n",
    "for i in range(n):\n",
    "    name = input(\"Enter name = \")\n",
    "    ntc_phone = int(input(\"Enter ntc phone no = \"))\n",
    "    ncell_phone = int(input(\"Enter ncell phone no = \"))\n",
    "    data[name] = [ntc_phone,ncell_phone]\n",
    "\n",
    "print(data)"
   ]
  },
  {
   "cell_type": "code",
   "execution_count": 18,
   "id": "d9b5538c",
   "metadata": {},
   "outputs": [
    {
     "name": "stdout",
     "output_type": "stream",
     "text": [
      "[9845667654, 9808778765]\n",
      "9845667654\n"
     ]
    }
   ],
   "source": [
    "data = {'ram': [9845667654, 9808778765], 'Shyam': [9845667654, 9808667654]}\n",
    "print(data['ram'])\n",
    "print(data['ram'][0])"
   ]
  },
  {
   "cell_type": "code",
   "execution_count": 19,
   "id": "6862294b",
   "metadata": {},
   "outputs": [
    {
     "data": {
      "text/plain": [
       "{'ram': [9840000000, 9808778765], 'Shyam': [9845667654, 9808667654]}"
      ]
     },
     "execution_count": 19,
     "metadata": {},
     "output_type": "execute_result"
    }
   ],
   "source": [
    "data['ram'][0] = 9840000000\n",
    "data"
   ]
  },
  {
   "cell_type": "code",
   "execution_count": 20,
   "id": "2c123622",
   "metadata": {},
   "outputs": [
    {
     "data": {
      "text/plain": [
       "{'ram': [9808778765], 'Shyam': [9845667654, 9808667654]}"
      ]
     },
     "execution_count": 20,
     "metadata": {},
     "output_type": "execute_result"
    }
   ],
   "source": [
    "del data['ram'][0]\n",
    "data"
   ]
  },
  {
   "cell_type": "code",
   "execution_count": 22,
   "id": "69e407f9",
   "metadata": {},
   "outputs": [
    {
     "data": {
      "text/plain": [
       "{'name': ['Ram', 'Shyam', 'Hari'],\n",
       " 'age': [56, 78, 65],\n",
       " 'add': ['Kathmandu', 'Bhaktapur', 'Lalitpur']}"
      ]
     },
     "execution_count": 22,
     "metadata": {},
     "output_type": "execute_result"
    }
   ],
   "source": [
    "data = {'name':['Ram','Shyam','Hari'],\n",
    "        'age':[56,78,65],\n",
    "        'add':['Kathmandu','Bhaktapur','Lalitpur']}\n",
    "data"
   ]
  },
  {
   "cell_type": "code",
   "execution_count": 23,
   "id": "1fac64f5",
   "metadata": {},
   "outputs": [
    {
     "name": "stdout",
     "output_type": "stream",
     "text": [
      "Enput n = 2\n",
      "Enter name = Ram\n",
      "Enter age = 89\n",
      "Enter add = Kathmandu\n",
      "Enter name = Shyam\n",
      "Enter age = 78\n",
      "Enter add = kathmandu\n",
      "{'name': ['Ram', 'Shyam'], 'age': [89, 78], 'add': ['Kathmandu', 'kathmandu']}\n"
     ]
    }
   ],
   "source": [
    "data = {'name':[],'age':[],'add':[]}\n",
    "n = int(input(\"Enput n = \"))\n",
    "for i in range(n):\n",
    "    name = input(\"Enter name = \")\n",
    "    age = int(input(\"Enter age = \"))\n",
    "    add = input(\"Enter add = \")\n",
    "    data['name'].append(name)\n",
    "    data['age'].append(age)\n",
    "    data['add'].append(add)\n",
    "print(data)"
   ]
  },
  {
   "cell_type": "code",
   "execution_count": 25,
   "id": "5fecf26e",
   "metadata": {},
   "outputs": [
    {
     "name": "stdout",
     "output_type": "stream",
     "text": [
      "Ram 89 Kathmandu\n"
     ]
    }
   ],
   "source": [
    "print(data['name'][0],data['age'][0],data['add'][0])"
   ]
  },
  {
   "cell_type": "code",
   "execution_count": 26,
   "id": "498d3635",
   "metadata": {},
   "outputs": [
    {
     "data": {
      "text/plain": [
       "{'name': ['Shyam'], 'age': [78], 'add': ['kathmandu']}"
      ]
     },
     "execution_count": 26,
     "metadata": {},
     "output_type": "execute_result"
    }
   ],
   "source": [
    "del data['name'][0]\n",
    "del data['age'][0]\n",
    "del data['add'][0]\n",
    "data"
   ]
  },
  {
   "cell_type": "code",
   "execution_count": null,
   "id": "0a99fd71",
   "metadata": {},
   "outputs": [],
   "source": [
    "# data = [{'name':'Ram','age':67,'add':'Kathmandu'},\n",
    "#        {'name':'Rama','age':56,'add':'Kathmandu'}\n",
    "#        {'name':'Shyam','age':57,'add':'Bhaktapur'}]\n",
    "# WAP for CRUD operation"
   ]
  },
  {
   "cell_type": "code",
   "execution_count": 1,
   "id": "f34bc9e8",
   "metadata": {},
   "outputs": [
    {
     "name": "stdout",
     "output_type": "stream",
     "text": [
      "Entre n = 2\n",
      "Enter name = Ram\n",
      "Enter age = 78\n",
      "Enter add = Kathmandu\n",
      "Enter name = Shyam\n",
      "Enter age = 56\n",
      "Enter add = Bhaktapur\n",
      "[{'name': 'Ram', 'age': 78, 'add': 'Kathmandu'}, {'name': 'Shyam', 'age': 56, 'add': 'Bhaktapur'}]\n"
     ]
    }
   ],
   "source": [
    "data = []\n",
    "n = int(input(\"Entre n = \"))\n",
    "for i in range(n):\n",
    "    name = input(\"Enter name = \")\n",
    "    age  = int(input(\"Enter age = \"))\n",
    "    add = input(\"Enter add = \")\n",
    "    info = {'name':name,'age':age,'add':add}\n",
    "    data.append(info)\n",
    "    \n",
    "print(data)"
   ]
  },
  {
   "cell_type": "code",
   "execution_count": 2,
   "id": "fe85417c",
   "metadata": {},
   "outputs": [
    {
     "data": {
      "text/plain": [
       "[{'name': 'Ram', 'age': 78, 'add': 'Kathmandu'},\n",
       " {'name': 'Shyam', 'age': 56, 'add': 'Bhaktapur'},\n",
       " {'name': 'Rama', 'age': 38, 'add': 'Kathmandu'}]"
      ]
     },
     "execution_count": 2,
     "metadata": {},
     "output_type": "execute_result"
    }
   ],
   "source": [
    "data.append({'name': 'Rama', 'age': 38, 'add': 'Kathmandu'})\n",
    "data"
   ]
  },
  {
   "cell_type": "code",
   "execution_count": 5,
   "id": "7e428ca2",
   "metadata": {},
   "outputs": [
    {
     "data": {
      "text/plain": [
       "{'name': 'Ram', 'age': 78, 'add': 'Kathmandu'}"
      ]
     },
     "execution_count": 5,
     "metadata": {},
     "output_type": "execute_result"
    }
   ],
   "source": [
    "data[0]"
   ]
  },
  {
   "cell_type": "code",
   "execution_count": 6,
   "id": "91ee151e",
   "metadata": {},
   "outputs": [
    {
     "data": {
      "text/plain": [
       "[{'name': 'Rama', 'age': 78, 'add': 'Kathmandu'},\n",
       " {'name': 'Shyam', 'age': 56, 'add': 'Bhaktapur'},\n",
       " {'name': 'Rama', 'age': 38, 'add': 'Kathmandu'}]"
      ]
     },
     "execution_count": 6,
     "metadata": {},
     "output_type": "execute_result"
    }
   ],
   "source": [
    "data[1]['name'] = \"Rama\"\n",
    "data"
   ]
  },
  {
   "cell_type": "code",
   "execution_count": 7,
   "id": "180d9488",
   "metadata": {},
   "outputs": [
    {
     "data": {
      "text/plain": [
       "[{'name': 'Rama', 'age': 78, 'add': 'Kathmandu'},\n",
       " {'name': 'Shyam', 'age': 56, 'add': 'Bhaktapur'},\n",
       " {'name': 'Rama', 'age': 38}]"
      ]
     },
     "execution_count": 7,
     "metadata": {},
     "output_type": "execute_result"
    }
   ],
   "source": [
    "del data[2]['add']\n",
    "data"
   ]
  },
  {
   "cell_type": "code",
   "execution_count": 8,
   "id": "d316d429",
   "metadata": {},
   "outputs": [
    {
     "name": "stdout",
     "output_type": "stream",
     "text": [
      "{1: {'name': 'Rama', 'age': 78, 'add': 'Kathmandu'}, 2: {'name': 'Shyam', 'age': 56, 'add': 'Bhaktapur'}, 3: {'name': 'Rama', 'age': 38, 'add': 'Kathmandu'}}\n"
     ]
    }
   ],
   "source": [
    "# dict inside dict\n",
    "data = {1:{'name': 'Rama', 'age': 78, 'add': 'Kathmandu'},\n",
    "       2:{'name': 'Shyam', 'age': 56, 'add': 'Bhaktapur'},\n",
    "       3:{'name': 'Rama', 'age': 38, 'add': 'Kathmandu'}}\n",
    "print(data)"
   ]
  },
  {
   "cell_type": "code",
   "execution_count": 9,
   "id": "b048a26c",
   "metadata": {},
   "outputs": [
    {
     "name": "stdout",
     "output_type": "stream",
     "text": [
      "Entre n = 2\n",
      "Enter name = Ram\n",
      "Enter age = 78\n",
      "Enter add = Kathmandu\n",
      "Enter name = Shyam\n",
      "Enter age = 78\n",
      "Enter add = Bhaktapur\n",
      "{1: {'name': 'Ram', 'age': 78, 'add': 'Kathmandu'}, 2: {'name': 'Shyam', 'age': 78, 'add': 'Bhaktapur'}}\n"
     ]
    }
   ],
   "source": [
    "data = {}\n",
    "n = int(input(\"Entre n = \"))\n",
    "for i in range(1,n+1):\n",
    "    name = input(\"Enter name = \")\n",
    "    age  = int(input(\"Enter age = \"))\n",
    "    add = input(\"Enter add = \")\n",
    "    info = {'name':name,'age':age,'add':add}\n",
    "    data[i] = info\n",
    "    \n",
    "print(data)"
   ]
  },
  {
   "cell_type": "code",
   "execution_count": 11,
   "id": "3bbe6af2",
   "metadata": {},
   "outputs": [
    {
     "data": {
      "text/plain": [
       "{1: {'name': 'Ram', 'age': 78, 'add': 'Kathmandu'},\n",
       " 2: {'name': 'Shyam', 'age': 78, 'add': 'Bhaktapur'},\n",
       " 3: {'name': 'Rama', 'age': 48, 'add': 'Kathmandu'}}"
      ]
     },
     "execution_count": 11,
     "metadata": {},
     "output_type": "execute_result"
    }
   ],
   "source": [
    "data[3] = {'name': 'Rama', 'age': 48, 'add': 'Kathmandu'}\n",
    "data"
   ]
  },
  {
   "cell_type": "code",
   "execution_count": 23,
   "id": "adf5423c",
   "metadata": {},
   "outputs": [
    {
     "data": {
      "text/plain": [
       "{1: {'name': 'Ram', 'age': 78, 'add': 'Kathmandu', 'phone': 9808778765},\n",
       " 2: {'name': 'Shyam', 'age': 78, 'add': 'Bhaktapur'},\n",
       " 3: {'name': 'Rama', 'age': 48, 'add': 'Kathmandu'}}"
      ]
     },
     "execution_count": 23,
     "metadata": {},
     "output_type": "execute_result"
    }
   ],
   "source": [
    "# Adding new key\n",
    "data = {1: {'name': 'Ram', 'age': 78, 'add': 'Kathmandu'},\n",
    "     2: {'name': 'Shyam', 'age': 78, 'add': 'Bhaktapur'},\n",
    "     3: {'name': 'Rama', 'age': 48, 'add': 'Kathmandu'}}\n",
    "data[1]['phone'] = 9808778765\n",
    "data"
   ]
  },
  {
   "cell_type": "code",
   "execution_count": 24,
   "id": "d04e9c9f",
   "metadata": {},
   "outputs": [
    {
     "name": "stdout",
     "output_type": "stream",
     "text": [
      "Enter phone Ram9808778765\n",
      "Enter phone Shyam9808667543\n",
      "Enter phone Rama9856556543\n"
     ]
    }
   ],
   "source": [
    "# Adding new key\n",
    "data = {1: {'name': 'Ram', 'age': 78, 'add': 'Kathmandu'},\n",
    "     2: {'name': 'Shyam', 'age': 78, 'add': 'Bhaktapur'},\n",
    "     3: {'name': 'Rama', 'age': 48, 'add': 'Kathmandu'}}\n",
    "for i in data:\n",
    "    phone = input(f\"Enter phone {data[i]['name']}\")\n",
    "    data[i]['phone'] = phone\n",
    "    "
   ]
  },
  {
   "cell_type": "code",
   "execution_count": 25,
   "id": "3fbc556c",
   "metadata": {},
   "outputs": [
    {
     "data": {
      "text/plain": [
       "{1: {'name': 'Ram', 'age': 78, 'add': 'Kathmandu', 'phone': '9808778765'},\n",
       " 2: {'name': 'Shyam', 'age': 78, 'add': 'Bhaktapur', 'phone': '9808667543'},\n",
       " 3: {'name': 'Rama', 'age': 48, 'add': 'Kathmandu', 'phone': '9856556543'}}"
      ]
     },
     "execution_count": 25,
     "metadata": {},
     "output_type": "execute_result"
    }
   ],
   "source": [
    "data"
   ]
  },
  {
   "cell_type": "code",
   "execution_count": 13,
   "id": "ba27a8ab",
   "metadata": {},
   "outputs": [
    {
     "data": {
      "text/plain": [
       "{1: {'name': 'Rama', 'age': 78, 'add': 'Kathmandu'},\n",
       " 2: {'name': 'Shyam', 'age': 78, 'add': 'Bhaktapur'},\n",
       " 3: {'name': 'Rama', 'age': 48, 'add': 'Kathmandu'}}"
      ]
     },
     "execution_count": 13,
     "metadata": {},
     "output_type": "execute_result"
    }
   ],
   "source": [
    "data[1]['name'] = 'Rama'\n",
    "data"
   ]
  },
  {
   "cell_type": "code",
   "execution_count": 15,
   "id": "8c373b3e",
   "metadata": {},
   "outputs": [
    {
     "data": {
      "text/plain": [
       "{'Ram': [9808667876, 9808778765]}"
      ]
     },
     "execution_count": 15,
     "metadata": {},
     "output_type": "execute_result"
    }
   ],
   "source": [
    "data = {\"Ram\":[9808667876,9808778765]}\n",
    "data"
   ]
  },
  {
   "cell_type": "code",
   "execution_count": 20,
   "id": "6b6c6857",
   "metadata": {},
   "outputs": [
    {
     "data": {
      "text/plain": [
       "{('Ram', 'Shyam'): 9808778765}"
      ]
     },
     "execution_count": 20,
     "metadata": {},
     "output_type": "execute_result"
    }
   ],
   "source": [
    "data = {(\"Ram\",\"Shyam\"):9808778765}\n",
    "data"
   ]
  },
  {
   "cell_type": "code",
   "execution_count": 19,
   "id": "c08727d0",
   "metadata": {},
   "outputs": [
    {
     "data": {
      "text/plain": [
       "9808778765"
      ]
     },
     "execution_count": 19,
     "metadata": {},
     "output_type": "execute_result"
    }
   ],
   "source": [
    "data[('Ram', 'Shyam')]"
   ]
  },
  {
   "cell_type": "code",
   "execution_count": null,
   "id": "eb5def83",
   "metadata": {},
   "outputs": [],
   "source": []
  }
 ],
 "metadata": {
  "kernelspec": {
   "display_name": "Python 3 (ipykernel)",
   "language": "python",
   "name": "python3"
  },
  "language_info": {
   "codemirror_mode": {
    "name": "ipython",
    "version": 3
   },
   "file_extension": ".py",
   "mimetype": "text/x-python",
   "name": "python",
   "nbconvert_exporter": "python",
   "pygments_lexer": "ipython3",
   "version": "3.9.12"
  }
 },
 "nbformat": 4,
 "nbformat_minor": 5
}
