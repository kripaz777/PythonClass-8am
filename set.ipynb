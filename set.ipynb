{
 "cells": [
  {
   "cell_type": "code",
   "execution_count": 1,
   "id": "eb40fc6e",
   "metadata": {},
   "outputs": [],
   "source": [
    "# Set\n",
    "# -No indexing\n",
    "# -No duplicate data\n",
    "# -Unordered\n",
    "# -Mutable"
   ]
  },
  {
   "cell_type": "code",
   "execution_count": 3,
   "id": "0e8a189e",
   "metadata": {},
   "outputs": [
    {
     "data": {
      "text/plain": [
       "set"
      ]
     },
     "execution_count": 3,
     "metadata": {},
     "output_type": "execute_result"
    }
   ],
   "source": [
    "s = {1}\n",
    "type(s)"
   ]
  },
  {
   "cell_type": "code",
   "execution_count": null,
   "id": "03c15818",
   "metadata": {},
   "outputs": [],
   "source": [
    "s = set()"
   ]
  },
  {
   "cell_type": "code",
   "execution_count": 4,
   "id": "1923fe4f",
   "metadata": {},
   "outputs": [
    {
     "name": "stdout",
     "output_type": "stream",
     "text": [
      "{'ball', 'Fish', 'Apple', 'cat', 'Dog'}\n"
     ]
    }
   ],
   "source": [
    "s = {\"Apple\",\"ball\",\"cat\",\"Fish\",\"Dog\"}\n",
    "print(s)"
   ]
  },
  {
   "cell_type": "code",
   "execution_count": 5,
   "id": "9573de58",
   "metadata": {},
   "outputs": [
    {
     "data": {
      "text/plain": [
       "{'Apple', 'Dog', 'Fish', 'ball', 'cat'}"
      ]
     },
     "execution_count": 5,
     "metadata": {},
     "output_type": "execute_result"
    }
   ],
   "source": [
    "s = {\"Apple\",\"ball\",\"cat\",\"Fish\",\"Dog\"}\n",
    "s"
   ]
  },
  {
   "cell_type": "code",
   "execution_count": 10,
   "id": "7d452555",
   "metadata": {},
   "outputs": [
    {
     "name": "stdout",
     "output_type": "stream",
     "text": [
      "{34, 35, 678, 567, 12}\n"
     ]
    },
    {
     "data": {
      "text/plain": [
       "{12, 34, 35, 567, 678}"
      ]
     },
     "execution_count": 10,
     "metadata": {},
     "output_type": "execute_result"
    }
   ],
   "source": [
    "s = {12,34,567,34,678,35,678}\n",
    "print(s)\n",
    "s"
   ]
  },
  {
   "cell_type": "code",
   "execution_count": 6,
   "id": "25ab2ef0",
   "metadata": {},
   "outputs": [
    {
     "ename": "TypeError",
     "evalue": "'set' object is not subscriptable",
     "output_type": "error",
     "traceback": [
      "\u001b[1;31m---------------------------------------------------------------------------\u001b[0m",
      "\u001b[1;31mTypeError\u001b[0m                                 Traceback (most recent call last)",
      "Input \u001b[1;32mIn [6]\u001b[0m, in \u001b[0;36m<cell line: 1>\u001b[1;34m()\u001b[0m\n\u001b[1;32m----> 1\u001b[0m \u001b[43ms\u001b[49m\u001b[43m[\u001b[49m\u001b[38;5;241;43m0\u001b[39;49m\u001b[43m]\u001b[49m\n",
      "\u001b[1;31mTypeError\u001b[0m: 'set' object is not subscriptable"
     ]
    }
   ],
   "source": [
    "s[0]"
   ]
  },
  {
   "cell_type": "code",
   "execution_count": 7,
   "id": "b0678cca",
   "metadata": {},
   "outputs": [
    {
     "data": {
      "text/plain": [
       "{'Apple', 'Dog', 'Fish', 'ball', 'cat'}"
      ]
     },
     "execution_count": 7,
     "metadata": {},
     "output_type": "execute_result"
    }
   ],
   "source": [
    "s = {\"Apple\",\"ball\",\"cat\",\"Fish\",\"Dog\",\"Apple\"}\n",
    "s"
   ]
  },
  {
   "cell_type": "code",
   "execution_count": 17,
   "id": "1e2445f9",
   "metadata": {},
   "outputs": [
    {
     "data": {
      "text/plain": [
       "['cat', 'ball', 'Fish', 'Apple', 'Dog']"
      ]
     },
     "execution_count": 17,
     "metadata": {},
     "output_type": "execute_result"
    }
   ],
   "source": [
    "s = [\"Apple\",\"ball\",\"cat\",\"Fish\",\"Dog\",\"Apple\",\"cat\",\"cat\",\"Fish\",\"ball\"]\n",
    "s = list(set(s))\n",
    "s"
   ]
  },
  {
   "cell_type": "code",
   "execution_count": 11,
   "id": "eb3eee74",
   "metadata": {},
   "outputs": [
    {
     "data": {
      "text/plain": [
       "{'Apple', 'Ball', 'Cat'}"
      ]
     },
     "execution_count": 11,
     "metadata": {},
     "output_type": "execute_result"
    }
   ],
   "source": [
    "s = set()\n",
    "s.add('Apple')\n",
    "s.add('Ball')\n",
    "s.add('Cat')\n",
    "s"
   ]
  },
  {
   "cell_type": "code",
   "execution_count": 18,
   "id": "c50e5a82",
   "metadata": {},
   "outputs": [
    {
     "data": {
      "text/plain": [
       "{'Ball', 'Cat'}"
      ]
     },
     "execution_count": 18,
     "metadata": {},
     "output_type": "execute_result"
    }
   ],
   "source": [
    "s = {'Apple', 'Ball', 'Cat'}\n",
    "s.remove('Apple')\n",
    "s"
   ]
  },
  {
   "cell_type": "code",
   "execution_count": 19,
   "id": "0ea0f080",
   "metadata": {},
   "outputs": [],
   "source": [
    "# No + *"
   ]
  },
  {
   "cell_type": "code",
   "execution_count": 27,
   "id": "c7d0fbbd",
   "metadata": {},
   "outputs": [
    {
     "name": "stdout",
     "output_type": "stream",
     "text": [
      "{'Hari', 'Mike'}\n",
      "{'Jobs', 'Hari', 'Sita', 'Mark', 'Bill', 'John', 'Nabin', 'Sarita', 'Shyam', 'Ram', 'Mike'}\n"
     ]
    }
   ],
   "source": [
    "# intersection() union() difference()\n",
    "U = {'Jobs', 'Hari', 'Sita', 'Mark', 'Bill', 'John', 'Nabin', 'Sarita', 'Shyam', 'Ram', 'Mike','xyz'}\n",
    "ms = {\"Ram\",\"Shyam\",\"Hari\",\"Bill\",\"John\",\"Mike\",\"Mark\"}\n",
    "apple = {\"Jobs\",\"Nabin\",\"Hari\",\"Mike\",\"Sita\",\"Sarita\"}\n",
    "\n",
    "print(apple.intersection(ms))\n",
    "print(ms.union(apple))\n"
   ]
  },
  {
   "cell_type": "code",
   "execution_count": 24,
   "id": "438bc1d3",
   "metadata": {},
   "outputs": [
    {
     "data": {
      "text/plain": [
       "{'Jobs', 'Nabin', 'Sarita', 'Sita'}"
      ]
     },
     "execution_count": 24,
     "metadata": {},
     "output_type": "execute_result"
    }
   ],
   "source": [
    "apple - ms"
   ]
  },
  {
   "cell_type": "code",
   "execution_count": 25,
   "id": "743738e8",
   "metadata": {},
   "outputs": [
    {
     "data": {
      "text/plain": [
       "{'Bill', 'John', 'Mark', 'Ram', 'Shyam'}"
      ]
     },
     "execution_count": 25,
     "metadata": {},
     "output_type": "execute_result"
    }
   ],
   "source": [
    "ms - apple"
   ]
  },
  {
   "cell_type": "code",
   "execution_count": 28,
   "id": "550f311c",
   "metadata": {},
   "outputs": [
    {
     "data": {
      "text/plain": [
       "{'xyz'}"
      ]
     },
     "execution_count": 28,
     "metadata": {},
     "output_type": "execute_result"
    }
   ],
   "source": [
    "U - ms.union(apple)"
   ]
  },
  {
   "cell_type": "code",
   "execution_count": null,
   "id": "979f53b0",
   "metadata": {},
   "outputs": [],
   "source": []
  }
 ],
 "metadata": {
  "kernelspec": {
   "display_name": "Python 3 (ipykernel)",
   "language": "python",
   "name": "python3"
  },
  "language_info": {
   "codemirror_mode": {
    "name": "ipython",
    "version": 3
   },
   "file_extension": ".py",
   "mimetype": "text/x-python",
   "name": "python",
   "nbconvert_exporter": "python",
   "pygments_lexer": "ipython3",
   "version": "3.9.12"
  }
 },
 "nbformat": 4,
 "nbformat_minor": 5
}
