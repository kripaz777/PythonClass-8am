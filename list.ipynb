{
 "cells": [
  {
   "cell_type": "code",
   "execution_count": 1,
   "id": "e370d7c8",
   "metadata": {},
   "outputs": [],
   "source": [
    "# python collection\n",
    "# -List\n",
    "# -Tuple\n",
    "# -Dictionary\n",
    "# -Set"
   ]
  },
  {
   "cell_type": "code",
   "execution_count": 2,
   "id": "cd8c7801",
   "metadata": {},
   "outputs": [],
   "source": [
    "# List\n",
    "# -Indexing\n",
    "# -Ordered\n",
    "# -Multiple and duplicate data\n",
    "# -Mutable"
   ]
  },
  {
   "cell_type": "code",
   "execution_count": 3,
   "id": "3c5b198c",
   "metadata": {},
   "outputs": [
    {
     "name": "stdout",
     "output_type": "stream",
     "text": [
      "<class 'list'>\n",
      "<class 'list'>\n",
      "<class 'list'>\n"
     ]
    }
   ],
   "source": [
    "x = list()\n",
    "y = []\n",
    "a = [\"Apple\",\"Ball\",\"Cat\",\"Dog\"]\n",
    "print(type(a))\n",
    "print(type(x))\n",
    "print(type(y))"
   ]
  },
  {
   "cell_type": "code",
   "execution_count": 9,
   "id": "c283930b",
   "metadata": {},
   "outputs": [
    {
     "name": "stdout",
     "output_type": "stream",
     "text": [
      "['Apple', 'Ball', 'Cat', 'Dog', 'Fish', 'Apple']\n",
      "Ball\n",
      "['Apple', 'Ball', 'Cat']\n",
      "['Apple', 'Cat', 'Fish']\n"
     ]
    }
   ],
   "source": [
    "a = [\"Apple\",\"Ball\",\"Cat\",\"Dog\",\"Fish\",\"Apple\"]\n",
    "print(a)\n",
    "print(a[1])\n",
    "print(a[0:3])\n",
    "print(a[0:5:2])"
   ]
  },
  {
   "cell_type": "code",
   "execution_count": 10,
   "id": "6b1941df",
   "metadata": {},
   "outputs": [
    {
     "name": "stdout",
     "output_type": "stream",
     "text": [
      "['Apple', 'Ball', 'Cat', 'Dog', 'Fish', 'Apple', 2, 4, 5, 6, 2, 4, 6]\n"
     ]
    }
   ],
   "source": [
    "a = [\"Apple\",\"Ball\",\"Cat\",\"Dog\",\"Fish\",\"Apple\"]\n",
    "b = [2,4,5,6,2,4,6]\n",
    "c = a+b\n",
    "print(c)"
   ]
  },
  {
   "cell_type": "code",
   "execution_count": 11,
   "id": "3b6fbf4c",
   "metadata": {},
   "outputs": [
    {
     "name": "stdout",
     "output_type": "stream",
     "text": [
      "[2, 4, 5, 6, 2, 4, 6, 2, 4, 5, 6, 2, 4, 6]\n"
     ]
    }
   ],
   "source": [
    "b = [2,4,5,6,2,4,6]\n",
    "print(b*2)"
   ]
  },
  {
   "cell_type": "code",
   "execution_count": 12,
   "id": "8822d9f1",
   "metadata": {},
   "outputs": [
    {
     "name": "stdout",
     "output_type": "stream",
     "text": [
      "Enter n = 3\n",
      "Enter x = Apple\n",
      "Enter x = Ball\n",
      "Enter x = Cat\n",
      "['Apple', 'Ball', 'Cat']\n"
     ]
    }
   ],
   "source": [
    "l = []\n",
    "n = int(input(\"Enter n = \"))\n",
    "for i in range(n):\n",
    "    x = input(\"Enter x = \")\n",
    "    l = l+[x]\n",
    "    \n",
    "print(l)"
   ]
  },
  {
   "cell_type": "code",
   "execution_count": 14,
   "id": "7461deaf",
   "metadata": {},
   "outputs": [
    {
     "data": {
      "text/plain": [
       "['Apple', 'and', 'Ball']"
      ]
     },
     "execution_count": 14,
     "metadata": {},
     "output_type": "execute_result"
    }
   ],
   "source": [
    "x = 'Apple and Ball'\n",
    "x.split()"
   ]
  },
  {
   "cell_type": "code",
   "execution_count": 15,
   "id": "c2ec1f52",
   "metadata": {},
   "outputs": [
    {
     "name": "stdout",
     "output_type": "stream",
     "text": [
      "Apple\n",
      "Ball\n",
      "Cat\n"
     ]
    }
   ],
   "source": [
    "a = ['Apple', 'Ball', 'Cat']\n",
    "for i in a:\n",
    "    print(i)"
   ]
  },
  {
   "cell_type": "code",
   "execution_count": 18,
   "id": "d1b6ae85",
   "metadata": {},
   "outputs": [
    {
     "name": "stdout",
     "output_type": "stream",
     "text": [
      "0 Apple\n",
      "1 Ball\n",
      "2 Cat\n"
     ]
    }
   ],
   "source": [
    "a = ['Apple', 'Ball', 'Cat']\n",
    "l = len(a)\n",
    "for z in range(l):\n",
    "    print(z,a[z])"
   ]
  },
  {
   "cell_type": "code",
   "execution_count": 1,
   "id": "3ec5b097",
   "metadata": {},
   "outputs": [
    {
     "name": "stdout",
     "output_type": "stream",
     "text": [
      "Enter n = 5\n",
      "Enter x = 234\n",
      "Enter x = 546\n",
      "Enter x = 234\n",
      "Enter x = 567\n",
      "Enter x = 3434\n",
      "[234, 546, 234, 567, 3434]\n"
     ]
    }
   ],
   "source": [
    "l = []\n",
    "n = int(input(\"Enter n = \"))\n",
    "for i in range(n):\n",
    "    x = int(input(\"Enter x = \"))\n",
    "    l = l+[x]\n",
    "    \n",
    "print(l)"
   ]
  },
  {
   "cell_type": "code",
   "execution_count": 5,
   "id": "d2bc5fc0",
   "metadata": {},
   "outputs": [
    {
     "name": "stdout",
     "output_type": "stream",
     "text": [
      "The max value of l =  3434\n",
      "The min value of l =  234\n",
      "The sum  of l =  5015\n",
      "The avg value of l =  1003.0\n",
      "[234, 234, 546, 567, 3434]\n",
      "[3434, 567, 546, 234, 234]\n"
     ]
    }
   ],
   "source": [
    "print(\"The max value of l = \",max(l))\n",
    "print(\"The min value of l = \",min(l))\n",
    "print(\"The sum  of l = \",sum(l))\n",
    "print(\"The avg value of l = \",sum(l)/n)\n",
    "l.sort()\n",
    "print(l)\n",
    "l.reverse()\n",
    "print(l)"
   ]
  },
  {
   "cell_type": "code",
   "execution_count": 6,
   "id": "afdce179",
   "metadata": {},
   "outputs": [
    {
     "name": "stdout",
     "output_type": "stream",
     "text": [
      "['Apple', 'Ball', 'and']\n"
     ]
    }
   ],
   "source": [
    "a = ['Apple', 'and', 'Ball']\n",
    "a.sort()\n",
    "print(a)"
   ]
  },
  {
   "cell_type": "markdown",
   "id": "4ce8a3b3",
   "metadata": {},
   "source": [
    "Input data\n",
    "append() insert() extend()\n",
    "\n",
    "delete data\n",
    "del remove() pop()\n",
    "\n",
    "Update data\n",
    "\n",
    "reading index\n",
    "index()"
   ]
  },
  {
   "cell_type": "code",
   "execution_count": 7,
   "id": "d8e8a84d",
   "metadata": {},
   "outputs": [
    {
     "data": {
      "text/plain": [
       "['Apple', 'Ball', 'Cat', 'Dog', 'Fish', 'Apple', 'Goat']"
      ]
     },
     "execution_count": 7,
     "metadata": {},
     "output_type": "execute_result"
    }
   ],
   "source": [
    "a = ['Apple', 'Ball', 'Cat', 'Dog', 'Fish', 'Apple']\n",
    "a.append('Goat')\n",
    "a"
   ]
  },
  {
   "cell_type": "code",
   "execution_count": 8,
   "id": "3ff2b9fb",
   "metadata": {},
   "outputs": [
    {
     "name": "stdout",
     "output_type": "stream",
     "text": [
      "Enter n = 4\n",
      "Enter x = aad\n",
      "Enter x = sd\n",
      "Enter x = sd\n",
      "Enter x = fd\n",
      "['aad', 'sd', 'sd', 'fd']\n"
     ]
    }
   ],
   "source": [
    "l = []\n",
    "n = int(input(\"Enter n = \"))\n",
    "for i in range(n):\n",
    "    x = input(\"Enter x = \")\n",
    "    l.append(x)\n",
    "    \n",
    "print(l)"
   ]
  },
  {
   "cell_type": "code",
   "execution_count": 9,
   "id": "e01d6a0e",
   "metadata": {},
   "outputs": [
    {
     "data": {
      "text/plain": [
       "['Apple', 'ball', 'Ball', 'Cat', 'Dog', 'Fish', 'Apple']"
      ]
     },
     "execution_count": 9,
     "metadata": {},
     "output_type": "execute_result"
    }
   ],
   "source": [
    "a = ['Apple', 'Ball', 'Cat', 'Dog', 'Fish', 'Apple']\n",
    "a.insert(1,'ball')\n",
    "a"
   ]
  },
  {
   "cell_type": "code",
   "execution_count": 10,
   "id": "a53a42ed",
   "metadata": {},
   "outputs": [
    {
     "data": {
      "text/plain": [
       "['Apple', 'ball', 'Cat', 'Dog', 'Fish', 'Apple']"
      ]
     },
     "execution_count": 10,
     "metadata": {},
     "output_type": "execute_result"
    }
   ],
   "source": [
    "#Update\n",
    "a = ['Apple', 'Ball', 'Cat', 'Dog', 'Fish', 'Apple']\n",
    "a[1] = 'ball'\n",
    "a"
   ]
  },
  {
   "cell_type": "code",
   "execution_count": 14,
   "id": "3206d862",
   "metadata": {},
   "outputs": [
    {
     "name": "stdout",
     "output_type": "stream",
     "text": [
      "['Apple', 'Ball', 'Cat', 'Dog', 'Fish', 'Apple', 1, 2, 3, 4, 5]\n"
     ]
    }
   ],
   "source": [
    "a = ['Apple', 'Ball', 'Cat', 'Dog', 'Fish', 'Apple']\n",
    "b = [1,2,3,4,5]\n",
    "a.extend(b)\n",
    "print(a)"
   ]
  },
  {
   "cell_type": "code",
   "execution_count": 17,
   "id": "1d900cc7",
   "metadata": {},
   "outputs": [
    {
     "name": "stdout",
     "output_type": "stream",
     "text": [
      "['Apple', 'Ball', 'Cat', 'Dog', 'Fish', 'Apple', 1, 2, 3, 4, 5]\n"
     ]
    }
   ],
   "source": [
    "a = ['Apple', 'Ball', 'Cat', 'Dog', 'Fish', 'Apple']\n",
    "b = [1,2,3,4,5]\n",
    "a =a+b\n",
    "print(a)"
   ]
  },
  {
   "cell_type": "code",
   "execution_count": 19,
   "id": "627adc38",
   "metadata": {},
   "outputs": [
    {
     "name": "stdout",
     "output_type": "stream",
     "text": [
      "['Ball', 'Cat', 'Dog', 'Fish', 'Apple', 1, 2, 3, 4, 5]\n"
     ]
    }
   ],
   "source": [
    "#del\n",
    "a = ['Apple', 'Ball', 'Cat', 'Dog', 'Fish', 'Apple', 1, 2, 3, 4, 5]\n",
    "del a[0]\n",
    "print(a)"
   ]
  },
  {
   "cell_type": "code",
   "execution_count": 21,
   "id": "e15b9022",
   "metadata": {},
   "outputs": [
    {
     "name": "stdout",
     "output_type": "stream",
     "text": [
      "['Apple', 1, 2, 3, 4, 5]\n"
     ]
    }
   ],
   "source": [
    "a = ['Apple', 'Ball', 'Cat', 'Dog', 'Fish', 'Apple', 1, 2, 3, 4, 5]\n",
    "del a[0:5]\n",
    "print(a)"
   ]
  },
  {
   "cell_type": "code",
   "execution_count": 22,
   "id": "5a6ad101",
   "metadata": {},
   "outputs": [
    {
     "data": {
      "text/plain": [
       "['Apple', 'Cat', 'Dog', 'Fish', 'Apple', 1, 2, 3, 4, 5]"
      ]
     },
     "execution_count": 22,
     "metadata": {},
     "output_type": "execute_result"
    }
   ],
   "source": [
    "#remove\n",
    "a = ['Apple', 'Ball', 'Cat', 'Dog', 'Fish', 'Apple', 1, 2, 3, 4, 5]\n",
    "a.remove('Ball')\n",
    "a"
   ]
  },
  {
   "cell_type": "code",
   "execution_count": 23,
   "id": "4315c794",
   "metadata": {},
   "outputs": [
    {
     "data": {
      "text/plain": [
       "['Ball', 'Cat', 'Dog', 'Fish', 'Apple', 1, 2, 3, 4, 5]"
      ]
     },
     "execution_count": 23,
     "metadata": {},
     "output_type": "execute_result"
    }
   ],
   "source": [
    "#remove\n",
    "a = ['Apple', 'Ball', 'Cat', 'Dog', 'Fish', 'Apple', 1, 2, 3, 4, 5]\n",
    "a.remove('Apple')\n",
    "a"
   ]
  },
  {
   "cell_type": "code",
   "execution_count": 25,
   "id": "128a00a4",
   "metadata": {},
   "outputs": [
    {
     "name": "stdout",
     "output_type": "stream",
     "text": [
      "2\n"
     ]
    },
    {
     "data": {
      "text/plain": [
       "['Ball', 'Cat', 'Dog', 'Fish', 1, 2, 3, 4, 5]"
      ]
     },
     "execution_count": 25,
     "metadata": {},
     "output_type": "execute_result"
    }
   ],
   "source": [
    "#remove\n",
    "a = ['Apple','Ball', 'Cat', 'Dog', 'Fish', 'Apple', 1, 2, 3, 4, 5]\n",
    "l = a.count('Apple')\n",
    "print(l)\n",
    "for i in range(l):\n",
    "    a.remove('Apple')\n",
    "a"
   ]
  },
  {
   "cell_type": "code",
   "execution_count": 27,
   "id": "115f01c9",
   "metadata": {},
   "outputs": [
    {
     "name": "stdout",
     "output_type": "stream",
     "text": [
      "['Apple', 'Ball', 'Cat', 'Dog', 'Fish', 'Apple', 1, 2, 3, 4]\n",
      "5\n"
     ]
    }
   ],
   "source": [
    "a = ['Apple','Ball', 'Cat', 'Dog', 'Fish', 'Apple', 1, 2, 3, 4, 5]\n",
    "b = a.pop()\n",
    "print(a)\n",
    "print(b)"
   ]
  },
  {
   "cell_type": "code",
   "execution_count": 28,
   "id": "1bdac88f",
   "metadata": {},
   "outputs": [
    {
     "name": "stdout",
     "output_type": "stream",
     "text": [
      "['Apple', 'Cat', 'Dog', 'Fish', 'Apple', 1, 2, 3, 4, 5]\n",
      "Ball\n"
     ]
    }
   ],
   "source": [
    "a = ['Apple','Ball', 'Cat', 'Dog', 'Fish', 'Apple', 1, 2, 3, 4, 5]\n",
    "b = a.pop(1)\n",
    "print(a)\n",
    "print(b)"
   ]
  },
  {
   "cell_type": "code",
   "execution_count": 30,
   "id": "2ff44b36",
   "metadata": {},
   "outputs": [
    {
     "data": {
      "text/plain": [
       "0"
      ]
     },
     "execution_count": 30,
     "metadata": {},
     "output_type": "execute_result"
    }
   ],
   "source": [
    "a = ['Apple','Ball', 'Cat', 'Dog', 'Fish', 'Apple', 1, 2, 3, 4, 5]\n",
    "a.index('Apple')"
   ]
  },
  {
   "cell_type": "code",
   "execution_count": 36,
   "id": "46e0215e",
   "metadata": {},
   "outputs": [
    {
     "name": "stdout",
     "output_type": "stream",
     "text": [
      "0 Apple\n",
      "5 Apple\n"
     ]
    }
   ],
   "source": [
    "a = ['Apple','Ball', 'Cat', 'Dog', 'Fish', 'Apple']\n",
    "l = len(a)\n",
    "for i in range(l):\n",
    "    if a[i] == 'Apple':\n",
    "        print(i,a[i])"
   ]
  },
  {
   "cell_type": "code",
   "execution_count": 39,
   "id": "7f27a02c",
   "metadata": {},
   "outputs": [
    {
     "data": {
      "text/plain": [
       "['apple', 'Ball', 'Cat', 'Dog', 'Fish', 'Apple']"
      ]
     },
     "execution_count": 39,
     "metadata": {},
     "output_type": "execute_result"
    }
   ],
   "source": [
    "a = ['Apple','Ball', 'Cat', 'Dog', 'Fish', 'Apple']\n",
    "a[0] = a[0].lower()\n",
    "a"
   ]
  },
  {
   "cell_type": "code",
   "execution_count": null,
   "id": "ed4151b3",
   "metadata": {},
   "outputs": [],
   "source": [
    "# List inside list"
   ]
  },
  {
   "cell_type": "code",
   "execution_count": null,
   "id": "be3f0a66",
   "metadata": {},
   "outputs": [],
   "source": [
    "a = [[1,2,3],\n",
    "     [4,5,6],\n",
    "     [7,8,9]]"
   ]
  },
  {
   "cell_type": "code",
   "execution_count": 8,
   "id": "919eddcd",
   "metadata": {},
   "outputs": [
    {
     "name": "stdout",
     "output_type": "stream",
     "text": [
      "[['Ram', 34, 'Kathmandu'], ['Shyam', 45, 'Lalitpur'], ['Hari', 67, 'Bhaktapur']]\n",
      "['Ram', 34, 'Kathmandu']\n",
      "Ram\n",
      "3\n"
     ]
    }
   ],
   "source": [
    "a = [['Ram',34,'Kathmandu'],\n",
    "    ['Shyam',45,'Lalitpur'],\n",
    "    ['Hari',67,'Bhaktapur']]\n",
    "\n",
    "print(a)\n",
    "print(a[0])\n",
    "print(a[0][0])\n",
    "print(len(a))"
   ]
  },
  {
   "cell_type": "code",
   "execution_count": 11,
   "id": "e231000c",
   "metadata": {},
   "outputs": [
    {
     "data": {
      "text/plain": [
       "[['Ram', 34, 'Kathmandu'],\n",
       " ['Shyam', 45, 'Lalitpur'],\n",
       " ['Hari', 67, 'Bhaktapur'],\n",
       " ['Nabin', 67, 'Bara']]"
      ]
     },
     "execution_count": 11,
     "metadata": {},
     "output_type": "execute_result"
    }
   ],
   "source": [
    "a = [['Ram',34,'Kathmandu'],\n",
    "    ['Shyam',45,'Lalitpur'],\n",
    "    ['Hari',67,'Bhaktapur']]\n",
    "b = [['Nabin',67,'Bara']]\n",
    "c = a+b\n",
    "c"
   ]
  },
  {
   "cell_type": "code",
   "execution_count": 13,
   "id": "1d9fd7da",
   "metadata": {},
   "outputs": [
    {
     "name": "stdout",
     "output_type": "stream",
     "text": [
      "Enter n = 3\n",
      "Enter name = Ram\n",
      "Enter age = 78\n",
      "Enter add = Kathmandu\n",
      "Enter name = Shyam\n",
      "Enter age = 23\n",
      "Enter add = Bhaktapur\n",
      "Enter name = Hari\n",
      "Enter age = 67\n",
      "Enter add = Bara\n",
      "[['Ram', 78, 'Kathmandu'], ['Shyam', 23, 'Bhaktapur'], ['Hari', 67, 'Bara']]\n"
     ]
    }
   ],
   "source": [
    "info = []\n",
    "n = int(input(\"Enter n = \"))\n",
    "for i in range(n):\n",
    "    name = input(\"Enter name = \")\n",
    "    age = int(input(\"Enter age = \"))\n",
    "    add = input(\"Enter add = \")\n",
    "    info.append([name,age,add])\n",
    "print(info)"
   ]
  },
  {
   "cell_type": "code",
   "execution_count": 15,
   "id": "d1cb4c7e",
   "metadata": {},
   "outputs": [
    {
     "name": "stdout",
     "output_type": "stream",
     "text": [
      "['Shyam', 23, 'Bhaktapur']\n"
     ]
    }
   ],
   "source": [
    "for i in info:\n",
    "    if 'Shyam' in i:\n",
    "        print(i)"
   ]
  },
  {
   "cell_type": "code",
   "execution_count": null,
   "id": "e6868066",
   "metadata": {},
   "outputs": [],
   "source": [
    "for i in info:\n",
    "    print(i)"
   ]
  },
  {
   "cell_type": "code",
   "execution_count": 16,
   "id": "585012b2",
   "metadata": {},
   "outputs": [
    {
     "name": "stdout",
     "output_type": "stream",
     "text": [
      "Enter name for search = Ram\n",
      "['Ram', 78, 'Kathmandu']\n"
     ]
    }
   ],
   "source": [
    "name = input(\"Enter name for search = \")\n",
    "for i in info:\n",
    "    if name in i:\n",
    "        print(i)"
   ]
  },
  {
   "cell_type": "code",
   "execution_count": 17,
   "id": "63e0b46b",
   "metadata": {},
   "outputs": [
    {
     "name": "stdout",
     "output_type": "stream",
     "text": [
      "Enter name for search = ram\n",
      "['Ram', 78, 'Kathmandu']\n"
     ]
    }
   ],
   "source": [
    "name = input(\"Enter name for search = \")\n",
    "for i in info:\n",
    "    if name.lower() in i[0].lower():\n",
    "        print(i)"
   ]
  },
  {
   "cell_type": "code",
   "execution_count": 18,
   "id": "fcf84df4",
   "metadata": {},
   "outputs": [
    {
     "data": {
      "text/plain": [
       "[['Shyam', 23, 'Bhaktapur'], ['Hari', 67, 'Bara']]"
      ]
     },
     "execution_count": 18,
     "metadata": {},
     "output_type": "execute_result"
    }
   ],
   "source": [
    "# del remove() pop()\n",
    "a = [['Ram', 78, 'Kathmandu'], \n",
    "     ['Shyam', 23, 'Bhaktapur'], \n",
    "     ['Hari', 67, 'Bara']]\n",
    "\n",
    "del a[0]\n",
    "a"
   ]
  },
  {
   "cell_type": "code",
   "execution_count": 19,
   "id": "6126ef5c",
   "metadata": {},
   "outputs": [
    {
     "data": {
      "text/plain": [
       "[[78, 'Kathmandu'], ['Shyam', 23, 'Bhaktapur'], ['Hari', 67, 'Bara']]"
      ]
     },
     "execution_count": 19,
     "metadata": {},
     "output_type": "execute_result"
    }
   ],
   "source": [
    "# del remove() pop()\n",
    "a = [['Ram', 78, 'Kathmandu'], \n",
    "     ['Shyam', 23, 'Bhaktapur'], \n",
    "     ['Hari', 67, 'Bara']]\n",
    "\n",
    "del a[0][0]\n",
    "a"
   ]
  },
  {
   "cell_type": "code",
   "execution_count": 21,
   "id": "c649e1e4",
   "metadata": {},
   "outputs": [
    {
     "data": {
      "text/plain": [
       "[['Rama', 70, 'Jhapa'], ['Shyam', 23, 'Bhaktapur'], ['Hari', 67, 'Bara']]"
      ]
     },
     "execution_count": 21,
     "metadata": {},
     "output_type": "execute_result"
    }
   ],
   "source": [
    "# Update\n",
    "a = [['Ram', 78, 'Kathmandu'], \n",
    "     ['Shyam', 23, 'Bhaktapur'], \n",
    "     ['Hari', 67, 'Bara']]\n",
    "a[0] = ['Rama',70,'Jhapa']\n",
    "a"
   ]
  },
  {
   "cell_type": "code",
   "execution_count": 22,
   "id": "0b921075",
   "metadata": {},
   "outputs": [
    {
     "data": {
      "text/plain": [
       "[['Rama', 70, 'Jhapa'], ['Shyama', 67, 'Chitwan'], ['Hari', 67, 'Bara']]"
      ]
     },
     "execution_count": 22,
     "metadata": {},
     "output_type": "execute_result"
    }
   ],
   "source": [
    "# Update\n",
    "a = [['Ram', 78, 'Kathmandu'], \n",
    "     ['Shyam', 23, 'Bhaktapur'], \n",
    "     ['Hari', 67, 'Bara']]\n",
    "a[0:2] = [['Rama',70,'Jhapa'],['Shyama',67,'Chitwan']]\n",
    "a"
   ]
  },
  {
   "cell_type": "code",
   "execution_count": 23,
   "id": "446e5322",
   "metadata": {},
   "outputs": [
    {
     "data": {
      "text/plain": [
       "[['Rama', 78, 'Kathmandu'], ['Shyam', 23, 'Bhaktapur'], ['Hari', 67, 'Bara']]"
      ]
     },
     "execution_count": 23,
     "metadata": {},
     "output_type": "execute_result"
    }
   ],
   "source": [
    "# Update\n",
    "a = [['Ram', 78, 'Kathmandu'], \n",
    "     ['Shyam', 23, 'Bhaktapur'], \n",
    "     ['Hari', 67, 'Bara']]\n",
    "a[0][0] = 'Rama'\n",
    "a"
   ]
  },
  {
   "cell_type": "code",
   "execution_count": 24,
   "id": "cc7013c7",
   "metadata": {},
   "outputs": [
    {
     "name": "stdout",
     "output_type": "stream",
     "text": [
      "['Ram', 78, 'Kathmandu']\n",
      "['Hari', 67, 'Bara']\n"
     ]
    }
   ],
   "source": [
    "a = [['Ram', 78, 'Kathmandu'], \n",
    "     ['Shyam', 23, 'Bhaktapur'], \n",
    "     ['Hari', 67, 'Bara']]\n",
    "for i in a:\n",
    "    if i[1]>50:\n",
    "        print(i)"
   ]
  },
  {
   "cell_type": "code",
   "execution_count": null,
   "id": "d0ca31e1",
   "metadata": {},
   "outputs": [],
   "source": [
    "# WAP to create a matrix (list inside list) by takeing row and col value by users\n",
    "r = 3\n",
    "c = 3\n",
    "x = ?\n",
    "# a = [[1,2,3],\n",
    "#      [4,5,6],\n",
    "#      [7,8,9]]\n",
    "# WAP to create a billing system with CRUD features"
   ]
  }
 ],
 "metadata": {
  "kernelspec": {
   "display_name": "Python 3 (ipykernel)",
   "language": "python",
   "name": "python3"
  },
  "language_info": {
   "codemirror_mode": {
    "name": "ipython",
    "version": 3
   },
   "file_extension": ".py",
   "mimetype": "text/x-python",
   "name": "python",
   "nbconvert_exporter": "python",
   "pygments_lexer": "ipython3",
   "version": "3.9.12"
  }
 },
 "nbformat": 4,
 "nbformat_minor": 5
}
