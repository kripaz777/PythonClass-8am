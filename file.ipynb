{
 "cells": [
  {
   "cell_type": "code",
   "execution_count": 1,
   "id": "b132ae2b",
   "metadata": {},
   "outputs": [],
   "source": [
    "\n",
    "# file = open('<file_name>','<mode>')\n",
    "# file.close()"
   ]
  },
  {
   "cell_type": "code",
   "execution_count": 2,
   "id": "349b59c0",
   "metadata": {},
   "outputs": [],
   "source": [
    "# modes\n",
    "# read -> r\n",
    "# write -> w\n",
    "# append -> a\n",
    "# create -> x"
   ]
  },
  {
   "cell_type": "code",
   "execution_count": 6,
   "id": "854f67aa",
   "metadata": {},
   "outputs": [
    {
     "name": "stdout",
     "output_type": "stream",
     "text": [
      "The file is already there!\n"
     ]
    }
   ],
   "source": [
    "try:\n",
    "    file = open('data.txt','x')\n",
    "    file.close()\n",
    "except:\n",
    "    print(\"The file is already there!\")"
   ]
  },
  {
   "cell_type": "code",
   "execution_count": 9,
   "id": "7bbedb09",
   "metadata": {},
   "outputs": [
    {
     "name": "stdout",
     "output_type": "stream",
     "text": [
      "1. Hello World\n",
      "2. Hello World\n",
      "3. Hello World\n",
      "4. Hello World\n",
      "5. Hello World\n",
      "6. Hello World\n",
      "7. Hello World\n",
      "8. Hello World\n"
     ]
    }
   ],
   "source": [
    "file = open('data.txt','r')\n",
    "data = file.read()\n",
    "print(data)\n",
    "file.close()"
   ]
  },
  {
   "cell_type": "code",
   "execution_count": 10,
   "id": "2be6d419",
   "metadata": {},
   "outputs": [
    {
     "data": {
      "text/plain": [
       "'C:\\\\Users\\\\Aayush\\\\PythonClass8am'"
      ]
     },
     "execution_count": 10,
     "metadata": {},
     "output_type": "execute_result"
    }
   ],
   "source": [
    "pwd"
   ]
  },
  {
   "cell_type": "code",
   "execution_count": 12,
   "id": "40e89619",
   "metadata": {},
   "outputs": [
    {
     "data": {
      "text/plain": [
       "['1. Hello World',\n",
       " '2. Hello World',\n",
       " '3. Hello World',\n",
       " '4. Hello World',\n",
       " '5. Hello World',\n",
       " '6. Hello World',\n",
       " '7. Hello World',\n",
       " '8. Hello World']"
      ]
     },
     "execution_count": 12,
     "metadata": {},
     "output_type": "execute_result"
    }
   ],
   "source": [
    "data.split('\\n')"
   ]
  },
  {
   "cell_type": "code",
   "execution_count": 13,
   "id": "0054df06",
   "metadata": {},
   "outputs": [
    {
     "data": {
      "text/plain": [
       "'1. Hello World'"
      ]
     },
     "execution_count": 13,
     "metadata": {},
     "output_type": "execute_result"
    }
   ],
   "source": [
    "x  = data.split('\\n')[0]\n",
    "x"
   ]
  },
  {
   "cell_type": "code",
   "execution_count": 16,
   "id": "9fa7bf06",
   "metadata": {},
   "outputs": [],
   "source": [
    "file = open('datas.txt','w')\n",
    "file.write('Hello World')\n",
    "file.close()"
   ]
  },
  {
   "cell_type": "code",
   "execution_count": 17,
   "id": "5cc0d83b",
   "metadata": {},
   "outputs": [
    {
     "name": "stdout",
     "output_type": "stream",
     "text": [
      "Enter c = 2\n",
      "Enter product name = Apple\n",
      "Enter price = 1000\n",
      "Enter quantity = 2\n",
      "Enter product name = Banana\n",
      "Enter price = 200\n",
      "Enter quantity = 4\n",
      "Apple 1000 2 2000\n",
      "Banana 200 4 800\n",
      "\n",
      "All total =  2800\n"
     ]
    }
   ],
   "source": [
    "s = str()\n",
    "i = 0\n",
    "all_total = 0\n",
    "c = int(input(\"Enter c = \"))\n",
    "while i<c:\n",
    "    name = input(\"Enter product name = \")\n",
    "    price  = int(input(\"Enter price = \"))\n",
    "    quantity  = int(input(\"Enter quantity = \"))\n",
    "    total = price*quantity\n",
    "    all_total = all_total + total\n",
    "    s = s + f\"{name} {price} {quantity} {total}\\n\"\n",
    "    i = i+1\n",
    "print(s)\n",
    "print(\"All total = \",all_total)\n",
    "\n",
    "file = open('datas.txt','w')\n",
    "file.write(s)\n",
    "file.close()"
   ]
  },
  {
   "cell_type": "code",
   "execution_count": 5,
   "id": "6037458d",
   "metadata": {},
   "outputs": [
    {
     "name": "stdout",
     "output_type": "stream",
     "text": [
      "Enter c = 2\n",
      "Enter product name = Apple\n",
      "Enter price = 200\n",
      "Enter quantity = 4\n",
      "Enter product name = Banana\n",
      "Enter price = 100\n",
      "Enter quantity = 2\n",
      "Apple 200 4 800\n",
      "Banana 100 2 200\n",
      "\n",
      "All total =  1000\n"
     ]
    },
    {
     "ename": "OSError",
     "evalue": "[Errno 22] Invalid argument: 'Thu Dec  1 08:58:38 2022.txt'",
     "output_type": "error",
     "traceback": [
      "\u001b[1;31m---------------------------------------------------------------------------\u001b[0m",
      "\u001b[1;31mOSError\u001b[0m                                   Traceback (most recent call last)",
      "Input \u001b[1;32mIn [5]\u001b[0m, in \u001b[0;36m<cell line: 22>\u001b[1;34m()\u001b[0m\n\u001b[0;32m     19\u001b[0m \u001b[38;5;28mprint\u001b[39m(s)\n\u001b[0;32m     20\u001b[0m \u001b[38;5;28mprint\u001b[39m(\u001b[38;5;124m\"\u001b[39m\u001b[38;5;124mAll total = \u001b[39m\u001b[38;5;124m\"\u001b[39m,all_total)\n\u001b[1;32m---> 22\u001b[0m file \u001b[38;5;241m=\u001b[39m \u001b[38;5;28;43mopen\u001b[39;49m\u001b[43m(\u001b[49m\u001b[38;5;124;43mf\u001b[39;49m\u001b[38;5;124;43m'''\u001b[39;49m\u001b[38;5;132;43;01m{\u001b[39;49;00m\u001b[43mfile_name\u001b[49m\u001b[38;5;132;43;01m}\u001b[39;49;00m\u001b[38;5;124;43m.txt\u001b[39;49m\u001b[38;5;124;43m'''\u001b[39;49m\u001b[43m,\u001b[49m\u001b[38;5;124;43m'\u001b[39;49m\u001b[38;5;124;43mw\u001b[39;49m\u001b[38;5;124;43m'\u001b[39;49m\u001b[43m)\u001b[49m\n\u001b[0;32m     23\u001b[0m file\u001b[38;5;241m.\u001b[39mwrite(s)\n\u001b[0;32m     24\u001b[0m file\u001b[38;5;241m.\u001b[39mclose()\n",
      "\u001b[1;31mOSError\u001b[0m: [Errno 22] Invalid argument: 'Thu Dec  1 08:58:38 2022.txt'"
     ]
    }
   ],
   "source": [
    "import datetime\n",
    "x = datetime.datetime.now()\n",
    "\n",
    "date= x.strftime(\"%c\")\n",
    "s = str()\n",
    "i = 0\n",
    "all_total = 0\n",
    "c = int(input(\"Enter c = \"))\n",
    "file_name = str(date).replace('/',' ')\n",
    "\n",
    "while i<c:\n",
    "    name = input(\"Enter product name = \")\n",
    "    price  = int(input(\"Enter price = \"))\n",
    "    quantity  = int(input(\"Enter quantity = \"))\n",
    "    total = price*quantity\n",
    "    all_total = all_total + total\n",
    "    s = s + f\"{name} {price} {quantity} {total}\\n\"\n",
    "    i = i+1\n",
    "print(s)\n",
    "print(\"All total = \",all_total)\n",
    "\n",
    "file = open(f'''{file_name}.txt''','w')\n",
    "file.write(s)\n",
    "file.close()"
   ]
  },
  {
   "cell_type": "code",
   "execution_count": 7,
   "id": "9d817d3a",
   "metadata": {},
   "outputs": [
    {
     "name": "stdout",
     "output_type": "stream",
     "text": [
      "Enter c = 2\n",
      "Enter product name = Momo\n",
      "Enter price = 200\n",
      "Enter quantity = 2\n",
      "Enter product name = Coke\n",
      "Enter price = 100\n",
      "Enter quantity = 2\n",
      "Momo,200,2,400\n",
      "Coke,100,2,200\n",
      "\n",
      "All total =  600\n"
     ]
    }
   ],
   "source": [
    "import datetime\n",
    "x = datetime.datetime.now()\n",
    "\n",
    "date= x.strftime(\"%c\")\n",
    "s = str()\n",
    "i = 0\n",
    "all_total = 0\n",
    "c = int(input(\"Enter c = \"))\n",
    "file_name = str(date).replace(':','_')\n",
    "\n",
    "while i<c:\n",
    "    name = input(\"Enter product name = \")\n",
    "    price  = int(input(\"Enter price = \"))\n",
    "    quantity  = int(input(\"Enter quantity = \"))\n",
    "    total = price*quantity\n",
    "    all_total = all_total + total\n",
    "    s = s + f\"{name},{price},{quantity},{total}\\n\"\n",
    "    i = i+1\n",
    "print(s)\n",
    "print(\"All total = \",all_total)\n",
    "\n",
    "file = open(f'''{file_name}.csv''','w')\n",
    "file.write('Name,Price,Quantity,Total\\n')\n",
    "file.write(s)\n",
    "file.close()"
   ]
  },
  {
   "cell_type": "code",
   "execution_count": 17,
   "id": "6af337cb",
   "metadata": {},
   "outputs": [],
   "source": [
    "import datetime\n",
    "x = datetime.datetime.now()\n",
    "date= x.strftime(\"%x\")\n",
    "file_name = str(date).replace('/','_')\n",
    "file = open(f'''{file_name}.csv''','w')\n",
    "file.write('Name,Price,Quantity,Total\\n')\n",
    "file.close()"
   ]
  },
  {
   "cell_type": "code",
   "execution_count": 18,
   "id": "301e44ef",
   "metadata": {},
   "outputs": [
    {
     "name": "stdout",
     "output_type": "stream",
     "text": [
      "Enter c = 2\n",
      "Enter product name = Apple\n",
      "Enter price = 100\n",
      "Enter quantity = 2\n",
      "Enter product name = banana\n",
      "Enter price = 200\n",
      "Enter quantity = 3\n",
      "Apple,100,2,200\n",
      "banana,200,3,600\n",
      "\n",
      "All total =  800\n"
     ]
    }
   ],
   "source": [
    "file = open(f'''{file_name}.csv''','a')\n",
    "\n",
    "s = str()\n",
    "i = 0\n",
    "all_total = 0\n",
    "c = int(input(\"Enter c = \"))\n",
    "\n",
    "while i<c:\n",
    "    name = input(\"Enter product name = \")\n",
    "    price  = int(input(\"Enter price = \"))\n",
    "    quantity  = int(input(\"Enter quantity = \"))\n",
    "    total = price*quantity\n",
    "    all_total = all_total + total\n",
    "    s = s + f\"{name},{price},{quantity},{total}\\n\"\n",
    "    i = i+1\n",
    "print(s)\n",
    "print(\"All total = \",all_total)\n",
    "\n",
    "\n",
    "file.write(s)\n",
    "file.close()"
   ]
  },
  {
   "cell_type": "code",
   "execution_count": 13,
   "id": "5043e2d4",
   "metadata": {},
   "outputs": [],
   "source": []
  },
  {
   "cell_type": "code",
   "execution_count": 20,
   "id": "f64a5d36",
   "metadata": {},
   "outputs": [
    {
     "data": {
      "text/html": [
       "<div>\n",
       "<style scoped>\n",
       "    .dataframe tbody tr th:only-of-type {\n",
       "        vertical-align: middle;\n",
       "    }\n",
       "\n",
       "    .dataframe tbody tr th {\n",
       "        vertical-align: top;\n",
       "    }\n",
       "\n",
       "    .dataframe thead th {\n",
       "        text-align: right;\n",
       "    }\n",
       "</style>\n",
       "<table border=\"1\" class=\"dataframe\">\n",
       "  <thead>\n",
       "    <tr style=\"text-align: right;\">\n",
       "      <th></th>\n",
       "      <th>Name</th>\n",
       "      <th>Price</th>\n",
       "      <th>Quantity</th>\n",
       "      <th>Total</th>\n",
       "    </tr>\n",
       "  </thead>\n",
       "  <tbody>\n",
       "    <tr>\n",
       "      <th>0</th>\n",
       "      <td>Apple</td>\n",
       "      <td>100</td>\n",
       "      <td>2</td>\n",
       "      <td>200</td>\n",
       "    </tr>\n",
       "    <tr>\n",
       "      <th>1</th>\n",
       "      <td>banana</td>\n",
       "      <td>200</td>\n",
       "      <td>3</td>\n",
       "      <td>600</td>\n",
       "    </tr>\n",
       "  </tbody>\n",
       "</table>\n",
       "</div>"
      ],
      "text/plain": [
       "     Name  Price  Quantity  Total\n",
       "0   Apple    100         2    200\n",
       "1  banana    200         3    600"
      ]
     },
     "execution_count": 20,
     "metadata": {},
     "output_type": "execute_result"
    }
   ],
   "source": [
    "import pandas as pd\n",
    "df = pd.read_csv('12_01_22.csv')\n",
    "df"
   ]
  },
  {
   "cell_type": "code",
   "execution_count": null,
   "id": "24d15573",
   "metadata": {},
   "outputs": [],
   "source": []
  }
 ],
 "metadata": {
  "kernelspec": {
   "display_name": "Python 3 (ipykernel)",
   "language": "python",
   "name": "python3"
  },
  "language_info": {
   "codemirror_mode": {
    "name": "ipython",
    "version": 3
   },
   "file_extension": ".py",
   "mimetype": "text/x-python",
   "name": "python",
   "nbconvert_exporter": "python",
   "pygments_lexer": "ipython3",
   "version": "3.9.12"
  }
 },
 "nbformat": 4,
 "nbformat_minor": 5
}
