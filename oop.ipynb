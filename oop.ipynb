{
 "cells": [
  {
   "cell_type": "code",
   "execution_count": 1,
   "id": "31223dd1",
   "metadata": {},
   "outputs": [],
   "source": [
    "# class <class name>:\n",
    "#     <operation>\n",
    "    \n",
    "# obj = <class_name>()"
   ]
  },
  {
   "cell_type": "code",
   "execution_count": 3,
   "id": "fe253472",
   "metadata": {},
   "outputs": [
    {
     "name": "stdout",
     "output_type": "stream",
     "text": [
      "Hello World\n"
     ]
    }
   ],
   "source": [
    "class Hello:                        #class\n",
    "    print(\"Hello World\")\n",
    "    \n",
    "obj = Hello()                        #object"
   ]
  },
  {
   "cell_type": "code",
   "execution_count": 6,
   "id": "7959c27b",
   "metadata": {},
   "outputs": [
    {
     "name": "stdout",
     "output_type": "stream",
     "text": [
      "Hello World\n"
     ]
    }
   ],
   "source": [
    "class Hello:                        #class\n",
    "    def hello(self):                 #method\n",
    "        print(\"Hello World\")\n",
    "    \n",
    "    \n",
    "obj = Hello()                        #object\n",
    "obj.hello()"
   ]
  },
  {
   "cell_type": "code",
   "execution_count": 7,
   "id": "f22b34f2",
   "metadata": {},
   "outputs": [
    {
     "name": "stdout",
     "output_type": "stream",
     "text": [
      "Hello World\n"
     ]
    }
   ],
   "source": [
    "class Hello:                        #class\n",
    "    @staticmethod\n",
    "    def hello():                    #method\n",
    "        print(\"Hello World\")\n",
    "    \n",
    "    \n",
    "obj = Hello()                        #object\n",
    "obj.hello()"
   ]
  },
  {
   "cell_type": "code",
   "execution_count": null,
   "id": "5a1be20d",
   "metadata": {},
   "outputs": [],
   "source": [
    "class Cal:\n",
    "    def area():\n",
    "        pass\n",
    "    def volume():\n",
    "        pass\n",
    "    \n",
    "obj = Cal()\n",
    "obj.area()\n",
    "obj.volume()"
   ]
  },
  {
   "cell_type": "code",
   "execution_count": 8,
   "id": "ac2de45b",
   "metadata": {},
   "outputs": [
    {
     "name": "stdout",
     "output_type": "stream",
     "text": [
      "50\n",
      "66\n"
     ]
    }
   ],
   "source": [
    "class Cal:\n",
    "    @staticmethod\n",
    "    def area():\n",
    "        l = 10\n",
    "        b = 5\n",
    "        a = l*b\n",
    "        print(a)\n",
    "        \n",
    "    @staticmethod\n",
    "    def volume():\n",
    "        l = 11\n",
    "        b = 3\n",
    "        h =2\n",
    "        v = l*b*h\n",
    "        print(v)\n",
    "    \n",
    "obj = Cal()\n",
    "obj.area()\n",
    "obj.volume()"
   ]
  },
  {
   "cell_type": "code",
   "execution_count": 9,
   "id": "23f076da",
   "metadata": {},
   "outputs": [
    {
     "name": "stdout",
     "output_type": "stream",
     "text": [
      "50\n",
      "66\n"
     ]
    }
   ],
   "source": [
    "class Cal:\n",
    "    \n",
    "    def area(self):\n",
    "        l = 10\n",
    "        b = 5\n",
    "        a = l*b\n",
    "        print(a)\n",
    "        \n",
    "    def volume(self):\n",
    "        l = 11\n",
    "        b = 3\n",
    "        h =2\n",
    "        v = l*b*h\n",
    "        print(v)\n",
    "    \n",
    "obj = Cal()\n",
    "obj.area()\n",
    "obj.volume()"
   ]
  },
  {
   "cell_type": "code",
   "execution_count": null,
   "id": "42a4a630",
   "metadata": {},
   "outputs": [],
   "source": [
    "class Cal:\n",
    "    \n",
    "    def area(self,l,b):\n",
    "        a = l*b\n",
    "        print(a)\n",
    "        \n",
    "    def volume(self,l,b,h):\n",
    "        v = l*b*h\n",
    "        print(v)\n",
    "\n",
    "        \n",
    "l = 10\n",
    "b = 5\n",
    "h = 2\n",
    "obj = Cal()\n",
    "obj.area(l,b)\n",
    "obj.volume(l,b,h)"
   ]
  },
  {
   "cell_type": "code",
   "execution_count": null,
   "id": "2bab2cae",
   "metadata": {},
   "outputs": [],
   "source": [
    "class Cal:\n",
    "    def __init__(self,l,b,h):\n",
    "        self.x = l\n",
    "        self.y = b\n",
    "        self.z = h\n",
    "        \n",
    "    def area(self):\n",
    "        a = self.x*self.y\n",
    "        print(a)\n",
    "        \n",
    "    def volume(self):\n",
    "        v = self.x*self.y*self.z\n",
    "        print(v)\n",
    "\n",
    "        \n",
    "l = 10\n",
    "b = 5\n",
    "h = 2\n",
    "obj = Cal(l,b,h)\n",
    "obj.area()\n",
    "obj.volume()"
   ]
  },
  {
   "cell_type": "code",
   "execution_count": 12,
   "id": "17ead95c",
   "metadata": {},
   "outputs": [
    {
     "name": "stdout",
     "output_type": "stream",
     "text": [
      "Enter l = 100\n",
      "Enter b = 34\n",
      "Enter h = 2\n",
      "3400\n",
      "6800\n",
      "100 34 2\n"
     ]
    }
   ],
   "source": [
    "class Cal:\n",
    "    def __init__(self):\n",
    "        self.x = int(input(\"Enter l = \"))\n",
    "        self.y = int(input(\"Enter b = \"))\n",
    "        self.z = int(input(\"Enter h = \"))\n",
    "        \n",
    "    def area(self):\n",
    "        a = self.x*self.y\n",
    "        print(a)\n",
    "        \n",
    "    def volume(self):\n",
    "        v = self.x*self.y*self.z\n",
    "        print(v)\n",
    "\n",
    "        \n",
    "\n",
    "obj = Cal()\n",
    "obj.area()\n",
    "obj.volume()\n",
    "print(obj.x,obj.y,obj.z)"
   ]
  },
  {
   "cell_type": "code",
   "execution_count": 17,
   "id": "48395b33",
   "metadata": {},
   "outputs": [
    {
     "name": "stdout",
     "output_type": "stream",
     "text": [
      "Enter l = 100\n",
      "Enter b = 50\n",
      "5000\n",
      "Enter l = 100\n",
      "Enter b = 34\n",
      "Enter h = 2\n",
      "6800\n"
     ]
    }
   ],
   "source": [
    "class Area:\n",
    "    def __init__(self):\n",
    "        self.x = int(input(\"Enter l = \"))\n",
    "        self.y = int(input(\"Enter b = \"))\n",
    "        \n",
    "    def area(self):\n",
    "        a = self.x*self.y\n",
    "        print(a)\n",
    "        \n",
    "class Volume:\n",
    "    def __init__(self):\n",
    "        self.x = int(input(\"Enter l = \"))\n",
    "        self.y = int(input(\"Enter b = \"))\n",
    "        self.z = int(input(\"Enter h = \"))\n",
    "        \n",
    "    def volume(self):\n",
    "        v = self.x*self.y*self.z\n",
    "        print(v)\n",
    "\n",
    "        \n",
    "obj1 = Area()\n",
    "obj1.area()\n",
    "obj2 = Volume()\n",
    "obj2.volume()\n"
   ]
  },
  {
   "cell_type": "code",
   "execution_count": 8,
   "id": "4c097672",
   "metadata": {},
   "outputs": [
    {
     "name": "stdout",
     "output_type": "stream",
     "text": [
      "Ram\n",
      "Ram\n",
      "Ram\n"
     ]
    }
   ],
   "source": [
    "class Info:\n",
    "    def __init__(self,name,age):\n",
    "        self.name = name\n",
    "        self.age = age\n",
    "        \n",
    "    def __str__(self):\n",
    "        return self.name\n",
    "    \n",
    "obj = Info(\"Ram\",23)\n",
    "print(obj)\n",
    "print(obj.__str__())\n",
    "print(str(obj))"
   ]
  },
  {
   "cell_type": "code",
   "execution_count": 10,
   "id": "d30ef84a",
   "metadata": {},
   "outputs": [
    {
     "ename": "TypeError",
     "evalue": "unsupported operand type(s) for +: 'Info' and 'str'",
     "output_type": "error",
     "traceback": [
      "\u001b[1;31m---------------------------------------------------------------------------\u001b[0m",
      "\u001b[1;31mTypeError\u001b[0m                                 Traceback (most recent call last)",
      "Input \u001b[1;32mIn [10]\u001b[0m, in \u001b[0;36m<cell line: 1>\u001b[1;34m()\u001b[0m\n\u001b[1;32m----> 1\u001b[0m \u001b[38;5;28mprint\u001b[39m(\u001b[43mobj\u001b[49m\u001b[38;5;241;43m+\u001b[39;49m\u001b[38;5;124;43m\"\u001b[39;49m\u001b[38;5;124;43mShyam\u001b[39;49m\u001b[38;5;124;43m\"\u001b[39;49m)\n",
      "\u001b[1;31mTypeError\u001b[0m: unsupported operand type(s) for +: 'Info' and 'str'"
     ]
    }
   ],
   "source": [
    "print(obj+\"Shyam\")"
   ]
  },
  {
   "cell_type": "code",
   "execution_count": 11,
   "id": "a4bf6a50",
   "metadata": {},
   "outputs": [
    {
     "ename": "TypeError",
     "evalue": "unsupported operand type(s) for +: 'Point' and 'Point'",
     "output_type": "error",
     "traceback": [
      "\u001b[1;31m---------------------------------------------------------------------------\u001b[0m",
      "\u001b[1;31mTypeError\u001b[0m                                 Traceback (most recent call last)",
      "Input \u001b[1;32mIn [11]\u001b[0m, in \u001b[0;36m<cell line: 7>\u001b[1;34m()\u001b[0m\n\u001b[0;32m      5\u001b[0m p1 \u001b[38;5;241m=\u001b[39m Point(\u001b[38;5;241m2\u001b[39m,\u001b[38;5;241m3\u001b[39m)\n\u001b[0;32m      6\u001b[0m p2 \u001b[38;5;241m=\u001b[39m Point(\u001b[38;5;241m-\u001b[39m\u001b[38;5;241m1\u001b[39m,\u001b[38;5;241m2\u001b[39m)\n\u001b[1;32m----> 7\u001b[0m \u001b[43mp1\u001b[49m\u001b[43m \u001b[49m\u001b[38;5;241;43m+\u001b[39;49m\u001b[43m \u001b[49m\u001b[43mp2\u001b[49m\n",
      "\u001b[1;31mTypeError\u001b[0m: unsupported operand type(s) for +: 'Point' and 'Point'"
     ]
    }
   ],
   "source": [
    "class Point:\n",
    "    def __init__(self, x = 0, y = 0):\n",
    "        self.x = x\n",
    "        self.y = y\n",
    "p1 = Point(2,3)\n",
    "p2 = Point(-1,2)\n",
    "p1 + p2\n"
   ]
  },
  {
   "cell_type": "code",
   "execution_count": 12,
   "id": "7bb4a6d5",
   "metadata": {},
   "outputs": [
    {
     "ename": "TypeError",
     "evalue": "unsupported operand type(s) for +: 'Point' and 'Point'",
     "output_type": "error",
     "traceback": [
      "\u001b[1;31m---------------------------------------------------------------------------\u001b[0m",
      "\u001b[1;31mTypeError\u001b[0m                                 Traceback (most recent call last)",
      "Input \u001b[1;32mIn [12]\u001b[0m, in \u001b[0;36m<cell line: 7>\u001b[1;34m()\u001b[0m\n\u001b[0;32m      5\u001b[0m p1 \u001b[38;5;241m=\u001b[39m Point(\u001b[38;5;241m2\u001b[39m)\n\u001b[0;32m      6\u001b[0m p2 \u001b[38;5;241m=\u001b[39m Point(\u001b[38;5;241m-\u001b[39m\u001b[38;5;241m1\u001b[39m)\n\u001b[1;32m----> 7\u001b[0m \u001b[43mp1\u001b[49m\u001b[43m \u001b[49m\u001b[38;5;241;43m+\u001b[39;49m\u001b[43m \u001b[49m\u001b[43mp2\u001b[49m\n",
      "\u001b[1;31mTypeError\u001b[0m: unsupported operand type(s) for +: 'Point' and 'Point'"
     ]
    }
   ],
   "source": [
    "class Point:\n",
    "    def __init__(self, x = 0):\n",
    "        self.x = x\n",
    "        \n",
    "p1 = Point(2)\n",
    "p2 = Point(-1)\n",
    "p1 + p2\n"
   ]
  },
  {
   "cell_type": "code",
   "execution_count": 14,
   "id": "0a8929bc",
   "metadata": {},
   "outputs": [
    {
     "name": "stdout",
     "output_type": "stream",
     "text": [
      "This is init methoid 2 3\n",
      "This is init methoid -1 2\n",
      "This is add method  2 3\n",
      "This is init methoid 1 5\n",
      "This is str method 1 5\n",
      "(1,5)\n"
     ]
    }
   ],
   "source": [
    "class Point:\n",
    "    def __init__(self, x, y):\n",
    "        self.x = x\n",
    "        self.y = y\n",
    "        print(\"This is init methoid\",self.x,self.y)\n",
    "    \n",
    "    def __str__(self):\n",
    "        print(\"This is str method\",self.x,self.y)\n",
    "        return f\"({self.x},{self.y})\"\n",
    "    \n",
    "    def __add__(self,other):\n",
    "        x = self.x + other.x\n",
    "        y = self.y + other.y\n",
    "        print(\"This is add method \",self.x,self.y)\n",
    "        return Point(x,y)\n",
    "    \n",
    "p1 = Point(2,3)\n",
    "p2 = Point(-1,2)\n",
    "print(p1 + p2)"
   ]
  },
  {
   "cell_type": "code",
   "execution_count": 15,
   "id": "029779c7",
   "metadata": {},
   "outputs": [
    {
     "name": "stdout",
     "output_type": "stream",
     "text": [
      "This is init methoid 2000\n",
      "This is init methoid 1500\n",
      "This is init methoid 1000\n",
      "This is add method  2000\n",
      "This is init methoid 3500\n",
      "This is add method  3500\n",
      "This is init methoid 4500\n",
      "This is str method 4500\n",
      "(4500)\n"
     ]
    }
   ],
   "source": [
    "class Point:\n",
    "    def __init__(self, x):\n",
    "        self.x = x\n",
    "        print(\"This is init method\",self.x)\n",
    "    \n",
    "    def __str__(self):\n",
    "        print(\"This is str method\",self.x)\n",
    "        return f\"({self.x})\"\n",
    "    \n",
    "    def __add__(self,other):\n",
    "        x = self.x + other.x\n",
    "        print(\"This is add method \",self.x)\n",
    "        return Point(x)\n",
    "    \n",
    "p1 = Point(2000)\n",
    "p2 = Point(1500)\n",
    "p3 = Point(1000)\n",
    "print(p1 + p2 +p3)"
   ]
  },
  {
   "cell_type": "code",
   "execution_count": null,
   "id": "6a1bd35c",
   "metadata": {},
   "outputs": [],
   "source": [
    "class Parrot:\n",
    "    def fly(self):\n",
    "        print(\"Parrot can fly\")\n",
    "    def swim(self):\n",
    "        print(\"Parrot can't swim\")\n",
    "        \n",
    "class Penguin:\n",
    "    def fly(self):\n",
    "        print(\"Penguin can't fly\")\n",
    "    def swim(self):\n",
    "        print(\"Penguin can swim\")\n",
    "        \n",
    "# common interface\n",
    "def flying_test(bird):\n",
    "    bird.fly()\n",
    "    \n",
    "    \n",
    "#instantiate objects\n",
    "blu = Parrot()\n",
    "peggy = Penguin()\n",
    "# passing the object\n",
    "flying_test(blu)\n",
    "flying_test(peggy)\n"
   ]
  }
 ],
 "metadata": {
  "kernelspec": {
   "display_name": "Python 3 (ipykernel)",
   "language": "python",
   "name": "python3"
  },
  "language_info": {
   "codemirror_mode": {
    "name": "ipython",
    "version": 3
   },
   "file_extension": ".py",
   "mimetype": "text/x-python",
   "name": "python",
   "nbconvert_exporter": "python",
   "pygments_lexer": "ipython3",
   "version": "3.9.12"
  }
 },
 "nbformat": 4,
 "nbformat_minor": 5
}
