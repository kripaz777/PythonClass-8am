{
 "cells": [
  {
   "cell_type": "code",
   "execution_count": 2,
   "id": "6483d4f9",
   "metadata": {},
   "outputs": [
    {
     "name": "stdout",
     "output_type": "stream",
     "text": [
      "Hello World\n",
      "Hello World\n",
      "Hello World\n",
      "Hello World Hello World Hello World\n",
      "<class 'str'> <class 'str'> <class 'str'>\n"
     ]
    }
   ],
   "source": [
    "a = 'Hello World'\n",
    "b = \"Hello World\"\n",
    "c = '''Hello World'''\n",
    "print(a)\n",
    "print(b)\n",
    "print(c)\n",
    "print(a,b,c)\n",
    "print(type(a),type(b),type(c))"
   ]
  },
  {
   "cell_type": "code",
   "execution_count": 4,
   "id": "3c0e49e6",
   "metadata": {},
   "outputs": [
    {
     "name": "stdout",
     "output_type": "stream",
     "text": [
      "Hello World\n"
     ]
    }
   ],
   "source": [
    "a = 'Hello '\n",
    "b = 'World'\n",
    "c = a+b\n",
    "print(c)"
   ]
  },
  {
   "cell_type": "code",
   "execution_count": 5,
   "id": "fcf43506",
   "metadata": {},
   "outputs": [
    {
     "name": "stdout",
     "output_type": "stream",
     "text": [
      "Hello World\n",
      "Hello World\n",
      "\n"
     ]
    }
   ],
   "source": [
    "a = \"Hello World\\n\"\n",
    "print(a*2)"
   ]
  },
  {
   "cell_type": "code",
   "execution_count": 6,
   "id": "51986f93",
   "metadata": {},
   "outputs": [
    {
     "name": "stdout",
     "output_type": "stream",
     "text": [
      "Enter name = Ram\n"
     ]
    }
   ],
   "source": [
    "name = input(\"Enter name = \")"
   ]
  },
  {
   "cell_type": "code",
   "execution_count": 10,
   "id": "abfab7fb",
   "metadata": {},
   "outputs": [
    {
     "name": "stdout",
     "output_type": "stream",
     "text": [
      "H\n",
      "Hello\n",
      "HloWr\n"
     ]
    }
   ],
   "source": [
    "a = \"Hello World I am Python\"\n",
    "print(a[0])\n",
    "print(a[0:5])\n",
    "print(a[0:10:2])"
   ]
  },
  {
   "cell_type": "code",
   "execution_count": 14,
   "id": "09019279",
   "metadata": {},
   "outputs": [
    {
     "name": "stdout",
     "output_type": "stream",
     "text": [
      "nohtyP ma I dlroW olleH\n",
      "nohtyP ma I dlroW olleH\n"
     ]
    }
   ],
   "source": [
    "a = \"Hello World I am Python\"\n",
    "print(a[-1::-1])\n",
    "print(a[::-1])"
   ]
  },
  {
   "cell_type": "code",
   "execution_count": null,
   "id": "363a8085",
   "metadata": {},
   "outputs": [],
   "source": []
  },
  {
   "cell_type": "code",
   "execution_count": 17,
   "id": "c5c8b349",
   "metadata": {},
   "outputs": [
    {
     "name": "stdout",
     "output_type": "stream",
     "text": [
      "Enter first value = 34242343\n",
      "This number is not palendrome\n"
     ]
    }
   ],
   "source": [
    "a = input(\"Enter first value = \")\n",
    "\n",
    "if a == a[::-1]:\n",
    "    print(\"The number is palendrome\")\n",
    "else:\n",
    "    print(\"This number is not palendrome\")"
   ]
  },
  {
   "cell_type": "code",
   "execution_count": 20,
   "id": "ba7af299",
   "metadata": {},
   "outputs": [
    {
     "name": "stdout",
     "output_type": "stream",
     "text": [
      "Hello World I am Ram I am 23\n"
     ]
    }
   ],
   "source": [
    "name = \"Ram\"\n",
    "age = 23\n",
    "info = \"Hello World I am \"+name+ \" I am \"+str(age)\n",
    "print(info)"
   ]
  },
  {
   "cell_type": "code",
   "execution_count": null,
   "id": "5f996d03",
   "metadata": {},
   "outputs": [],
   "source": [
    "# String formatting\n",
    "name = \"Ram\"\n",
    "age = 23\n",
    "info = f\"Hello World I am {name} I am {age}\"\n",
    "print(info)"
   ]
  },
  {
   "cell_type": "code",
   "execution_count": 23,
   "id": "cc3c16e0",
   "metadata": {},
   "outputs": [
    {
     "name": "stdout",
     "output_type": "stream",
     "text": [
      "Enter nameRam\n",
      "Enter age34\n",
      "Hello World I am Ram I am 34\n"
     ]
    }
   ],
   "source": [
    "# String formatting\n",
    "# name = \"Ram\"\n",
    "# age = 23\n",
    "info = f\"Hello World I am {input('Enter name')} I am {input('Enter age')}\"\n",
    "print(info)"
   ]
  },
  {
   "cell_type": "code",
   "execution_count": null,
   "id": "2dd885d5",
   "metadata": {},
   "outputs": [],
   "source": [
    "s = str()\n",
    "i = 0\n",
    "all_total = 0\n",
    "c = int(input(\"Enter c = \"))\n",
    "while i<c:\n",
    "    name = input(\"Enter product name = \")\n",
    "    price  = int(input(\"Enter price = \"))\n",
    "    quantity  = int(input(\"Enter quantity = \"))\n",
    "    total = price*quantity\n",
    "    all_total = all_total + total\n",
    "    s = s + f\"{name} {price} {quantity} {total}\\n\"\n",
    "    i = i+1\n",
    "print(s)\n",
    "print(\"All total = \",all_total)"
   ]
  },
  {
   "cell_type": "code",
   "execution_count": 24,
   "id": "c3b4d56a",
   "metadata": {},
   "outputs": [
    {
     "name": "stdout",
     "output_type": "stream",
     "text": [
      "Enter n 5\n",
      "Enter name = Ram\n",
      "Enter name = Shyam\n",
      "Enter name = Hari\n",
      "Enter name = Sita\n",
      "Enter name = Rita\n",
      "Ram Shyam Hari Sita Rita \n"
     ]
    }
   ],
   "source": [
    "s = str()\n",
    "n = int(input(\"Enter n \"))\n",
    "for i in range(n):\n",
    "    name = input(\"Enter name = \")\n",
    "    s = s+f\"{name} \"\n",
    "print(s)"
   ]
  },
  {
   "cell_type": "code",
   "execution_count": 25,
   "id": "5bdba66f",
   "metadata": {},
   "outputs": [
    {
     "name": "stdout",
     "output_type": "stream",
     "text": [
      "Ram Shyam Hari Sita Rita \n"
     ]
    }
   ],
   "source": [
    "print(s)"
   ]
  },
  {
   "cell_type": "code",
   "execution_count": 28,
   "id": "56e4d0f0",
   "metadata": {},
   "outputs": [
    {
     "name": "stdout",
     "output_type": "stream",
     "text": [
      "Enter name = Ram\n",
      "Yes\n",
      "1\n"
     ]
    }
   ],
   "source": [
    "name = input(\"Enter name = \")\n",
    "if name in s:\n",
    "    print(\"Yes\")\n",
    "    print(s.count(name))\n",
    "else:\n",
    "    print(\"No\")"
   ]
  },
  {
   "cell_type": "code",
   "execution_count": 34,
   "id": "5f1640e8",
   "metadata": {},
   "outputs": [
    {
     "name": "stdout",
     "output_type": "stream",
     "text": [
      "ram shyam hari sita rita\n",
      "ram\n",
      "RAM SHYAM HARI SITA RITA\n",
      "Ram Shyam Hari Sita Rita\n"
     ]
    }
   ],
   "source": [
    "a = \"Ram Shyam Hari Sita Rita\"\n",
    "search = \"rAm\"\n",
    "print(a.lower())\n",
    "print(search.lower())\n",
    "print(a.upper())\n",
    "print(a)"
   ]
  },
  {
   "cell_type": "code",
   "execution_count": 38,
   "id": "a9e8fdb1",
   "metadata": {},
   "outputs": [
    {
     "name": "stdout",
     "output_type": "stream",
     "text": [
      "Enter name = ram\n",
      "Yes\n",
      "1\n"
     ]
    }
   ],
   "source": [
    "a = \"Ram Shyam Hari Sita Rita\".lower()\n",
    "name = input(\"Enter name = \").lower()\n",
    "if name in a:\n",
    "    print(\"Yes\")\n",
    "    print(a.count(name))\n",
    "else:\n",
    "    print(\"No\")"
   ]
  },
  {
   "cell_type": "code",
   "execution_count": 43,
   "id": "9bb4bf3f",
   "metadata": {},
   "outputs": [
    {
     "name": "stdout",
     "output_type": "stream",
     "text": [
      "ram Shyam Hari Sita Rita ram\n"
     ]
    }
   ],
   "source": [
    "#replace()\n",
    "a = \"Ram Shyam Hari Sita Rita Ram\"\n",
    "a = a.replace('Ram','ram')\n",
    "print(a)"
   ]
  },
  {
   "cell_type": "code",
   "execution_count": null,
   "id": "e3bf8161",
   "metadata": {},
   "outputs": [],
   "source": [
    "#replace()\n",
    "a = \"Ram Shyam Hari Sita Rita Ram\"\n",
    "initial = input(\"Search name =\")\n",
    "final = input(\"Enter name for replace =\")\n",
    "a = a.replace(initial,final)\n",
    "print(a)"
   ]
  },
  {
   "cell_type": "code",
   "execution_count": 47,
   "id": "39f2f369",
   "metadata": {},
   "outputs": [
    {
     "data": {
      "text/plain": [
       "'Ram Shyam Hari Sita Rita Rama'"
      ]
     },
     "execution_count": 47,
     "metadata": {},
     "output_type": "execute_result"
    }
   ],
   "source": [
    "a = \"Ram Shyam Hari Sita Rita Ram\"\n",
    "a[0:-3]+\"Rama\""
   ]
  },
  {
   "cell_type": "code",
   "execution_count": 50,
   "id": "ef81fbde",
   "metadata": {},
   "outputs": [
    {
     "name": "stdout",
     "output_type": "stream",
     "text": [
      "Enter name = Ram\n",
      " Shyam Hari Sita Rita \n"
     ]
    }
   ],
   "source": [
    "#replace()\n",
    "\n",
    "a = \"Ram Shyam Hari Sita Rita Ram\"\n",
    "a = a.replace(input(\"Enter name = \"),'')\n",
    "print(a)"
   ]
  },
  {
   "cell_type": "code",
   "execution_count": 49,
   "id": "200a4069",
   "metadata": {},
   "outputs": [
    {
     "data": {
      "text/plain": [
       "['Ram', 'Shyam', 'Hari', 'Sita', 'Rita', 'Ram']"
      ]
     },
     "execution_count": 49,
     "metadata": {},
     "output_type": "execute_result"
    }
   ],
   "source": [
    "a = \"Ram Shyam Hari Sita Rita Ram\"\n",
    "a.split()"
   ]
  },
  {
   "cell_type": "code",
   "execution_count": null,
   "id": "ed562775",
   "metadata": {},
   "outputs": [],
   "source": []
  }
 ],
 "metadata": {
  "kernelspec": {
   "display_name": "Python 3 (ipykernel)",
   "language": "python",
   "name": "python3"
  },
  "language_info": {
   "codemirror_mode": {
    "name": "ipython",
    "version": 3
   },
   "file_extension": ".py",
   "mimetype": "text/x-python",
   "name": "python",
   "nbconvert_exporter": "python",
   "pygments_lexer": "ipython3",
   "version": "3.9.12"
  }
 },
 "nbformat": 4,
 "nbformat_minor": 5
}
