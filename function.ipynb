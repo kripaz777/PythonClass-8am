{
 "cells": [
  {
   "cell_type": "code",
   "execution_count": 1,
   "id": "38e96fa2",
   "metadata": {},
   "outputs": [],
   "source": [
    "# pred defined\n",
    "# user defined"
   ]
  },
  {
   "cell_type": "code",
   "execution_count": 2,
   "id": "5a4625a8",
   "metadata": {},
   "outputs": [],
   "source": [
    "# # pre defined\n",
    "# # int() float() str() print() input()\n",
    "\n",
    "# user defined\n",
    "# def <function_name>():\n",
    "#     <operations>\n",
    "    \n",
    "# <function_name>()"
   ]
  },
  {
   "cell_type": "code",
   "execution_count": 4,
   "id": "ccb5132f",
   "metadata": {},
   "outputs": [
    {
     "name": "stdout",
     "output_type": "stream",
     "text": [
      "10\n"
     ]
    }
   ],
   "source": [
    "a = 10\n",
    "print(10)"
   ]
  },
  {
   "cell_type": "code",
   "execution_count": 3,
   "id": "e2dd53f8",
   "metadata": {},
   "outputs": [
    {
     "name": "stdout",
     "output_type": "stream",
     "text": [
      "Hello World\n"
     ]
    }
   ],
   "source": [
    "def hello():\n",
    "    print(\"Hello World\")\n",
    "    \n",
    "hello()"
   ]
  },
  {
   "cell_type": "code",
   "execution_count": 5,
   "id": "9010bf57",
   "metadata": {},
   "outputs": [
    {
     "name": "stdout",
     "output_type": "stream",
     "text": [
      "Enter l = 10\n",
      "Enter b = 3\n",
      "30\n"
     ]
    }
   ],
   "source": [
    "def area():\n",
    "    l = int(input(\"Enter l = \"))      #local variable\n",
    "    b = int(input(\"Enter b = \"))      #local variable\n",
    "    a = l*b\n",
    "    print(a)\n",
    "    \n",
    "area()"
   ]
  },
  {
   "cell_type": "code",
   "execution_count": null,
   "id": "29d24e26",
   "metadata": {},
   "outputs": [],
   "source": [
    "l = int(input(\"Enter l = \"))      #global variable\n",
    "b = int(input(\"Enter b = \"))      #global variable\n",
    "\n",
    "def area():\n",
    "    a = l*b\n",
    "    print(a)\n",
    "    \n",
    "area()"
   ]
  },
  {
   "cell_type": "code",
   "execution_count": null,
   "id": "b8b28fee",
   "metadata": {},
   "outputs": [],
   "source": [
    "# function without argument and no return type\n",
    "# function with argument and no return type\n",
    "# function without argument and return type\n",
    "# function with argument and return type"
   ]
  },
  {
   "cell_type": "code",
   "execution_count": 6,
   "id": "f22cb2b6",
   "metadata": {},
   "outputs": [
    {
     "name": "stdout",
     "output_type": "stream",
     "text": [
      "Enter l = 10\n",
      "Enter b = 5\n",
      "50\n"
     ]
    }
   ],
   "source": [
    "# function with argument and no return type\n",
    "l = int(input(\"Enter l = \"))      #global variable\n",
    "b = int(input(\"Enter b = \"))      #global variable\n",
    "\n",
    "def area(x,y):   #parameter\n",
    "    a = x*y\n",
    "    print(a)\n",
    "    \n",
    "area(l,b)     #argument"
   ]
  },
  {
   "cell_type": "code",
   "execution_count": 7,
   "id": "e4f2b2e7",
   "metadata": {},
   "outputs": [
    {
     "name": "stdout",
     "output_type": "stream",
     "text": [
      "Enter l = 10\n",
      "Enter b = 20\n",
      "200\n"
     ]
    }
   ],
   "source": [
    "# function with argument and no return type\n",
    "\n",
    "def area(x,y):   #parameter\n",
    "    a = x*y\n",
    "    print(a)\n",
    "    \n",
    "l = int(input(\"Enter l = \"))      #global variable\n",
    "b = int(input(\"Enter b = \"))      #global variable\n",
    "\n",
    "area(l,b)     #argument"
   ]
  },
  {
   "cell_type": "code",
   "execution_count": null,
   "id": "690cbd62",
   "metadata": {},
   "outputs": [],
   "source": [
    "# function with argument and no return type\n",
    "\n",
    "def area(x,y):   #parameter\n",
    "    a = x*y\n",
    "    print(a)\n",
    "\n",
    "def volume(x,y,z):  #parameter\n",
    "    v = x*y*z\n",
    "    print(v)\n",
    "    \n",
    "l = int(input(\"Enter l = \"))      #global variable\n",
    "b = int(input(\"Enter b = \"))      #global variable\n",
    "h = int(input(\"Enter h = \"))      #global variable\n",
    "\n",
    "\n",
    "area(l,b)     #argument\n",
    "volume(l,b,h)  #argument"
   ]
  },
  {
   "cell_type": "code",
   "execution_count": 8,
   "id": "46e1f197",
   "metadata": {},
   "outputs": [],
   "source": [
    "# return type function"
   ]
  },
  {
   "cell_type": "code",
   "execution_count": 10,
   "id": "5448e74c",
   "metadata": {},
   "outputs": [
    {
     "name": "stdout",
     "output_type": "stream",
     "text": [
      "Hello World\n"
     ]
    }
   ],
   "source": [
    "# function without argument and return type\n",
    "\n",
    "def hello():\n",
    "    return \"Hello World\"\n",
    "\n",
    "print(hello())"
   ]
  },
  {
   "cell_type": "code",
   "execution_count": 12,
   "id": "9098786d",
   "metadata": {},
   "outputs": [
    {
     "name": "stdout",
     "output_type": "stream",
     "text": [
      "20\n",
      "The volume =  40\n"
     ]
    }
   ],
   "source": [
    "# function without argument and return type\n",
    "\n",
    "def area():\n",
    "    l = 10\n",
    "    b = 2\n",
    "    a = l*b\n",
    "    return a\n",
    "\n",
    "x = area()\n",
    "h = 2\n",
    "print(x)\n",
    "print(\"The volume = \",x*h)"
   ]
  },
  {
   "cell_type": "code",
   "execution_count": 13,
   "id": "bac351b1",
   "metadata": {},
   "outputs": [
    {
     "name": "stdout",
     "output_type": "stream",
     "text": [
      "Enter l = 10\n",
      "Enter b = 3\n",
      "Enter h = 2\n",
      "This area =  30\n",
      "The volume =  60\n"
     ]
    }
   ],
   "source": [
    "# function with argument and return type\n",
    "\n",
    "def area(l,b):\n",
    "    a = l*b\n",
    "    return a\n",
    "\n",
    "l = int(input(\"Enter l = \"))\n",
    "b = int(input(\"Enter b = \"))\n",
    "h = int(input(\"Enter h = \"))\n",
    "\n",
    "x = area(l,b)\n",
    "print(\"This area = \",x)\n",
    "print(\"The volume = \",x*h)"
   ]
  },
  {
   "cell_type": "code",
   "execution_count": 16,
   "id": "38b5a81c",
   "metadata": {},
   "outputs": [
    {
     "name": "stdout",
     "output_type": "stream",
     "text": [
      "Enter l = 100\n",
      "Enter b = 23\n",
      "Enter h = 45\n",
      "The area =  2300\n",
      "The volume =  103500\n"
     ]
    }
   ],
   "source": [
    "# function with argument and return type\n",
    "\n",
    "def cal(l,b,h):\n",
    "    a = l*b\n",
    "    v = a*h\n",
    "    return a,v\n",
    "\n",
    "l = int(input(\"Enter l = \"))\n",
    "b = int(input(\"Enter b = \"))\n",
    "h = int(input(\"Enter h = \"))\n",
    "\n",
    "x = cal(l,b,h)\n",
    "area,volume = x\n",
    "print(\"The area = \",area)\n",
    "print(\"The volume = \",volume)"
   ]
  },
  {
   "cell_type": "code",
   "execution_count": 20,
   "id": "c7bfe955",
   "metadata": {},
   "outputs": [
    {
     "name": "stdout",
     "output_type": "stream",
     "text": [
      "1 C\n",
      "3 C++\n",
      "4 Java\n",
      "0 Python\n"
     ]
    }
   ],
   "source": [
    "def language(l,lan = \"Python\"):\n",
    "    print(l,lan)\n",
    "    \n",
    "language(1,\"C\")\n",
    "language(3,\"C++\")\n",
    "language(4,\"Java\")\n",
    "language(0)"
   ]
  },
  {
   "cell_type": "code",
   "execution_count": 21,
   "id": "53cbac17",
   "metadata": {},
   "outputs": [
    {
     "name": "stdout",
     "output_type": "stream",
     "text": [
      "Enter a = 10\n",
      "Enter b = 2\n",
      "Enter + - * /  +\n",
      "12\n"
     ]
    }
   ],
   "source": [
    "def add(a,b):\n",
    "    return a+b\n",
    "def sub(a,b):\n",
    "    return a-b\n",
    "def mul(a,b):\n",
    "    return a*b\n",
    "def div(a,b):\n",
    "    return a/b\n",
    "def cal():\n",
    "    a = int(input(\"Enter a = \"))\n",
    "    b = int(input(\"Enter b = \"))\n",
    "    o = input(\"Enter + - * /  \")\n",
    "    if o == \"+\":\n",
    "        print(add(a,b))\n",
    "    elif o == '-':\n",
    "        print(sub(a,b))\n",
    "    elif o == '*':\n",
    "        print(mul(a,b))\n",
    "    elif o == '/':\n",
    "        print(div(a,b))\n",
    "\n",
    "    else:\n",
    "        print(\"Invalid operator \")\n",
    "        \n",
    "cal()"
   ]
  },
  {
   "cell_type": "code",
   "execution_count": null,
   "id": "fbe1b91c",
   "metadata": {},
   "outputs": [],
   "source": []
  },
  {
   "cell_type": "code",
   "execution_count": null,
   "id": "6a9568e7",
   "metadata": {},
   "outputs": [],
   "source": [
    "def hello():\n",
    "    print(\"Hello World\")\n",
    "    hello()\n",
    "    \n",
    "hello()"
   ]
  },
  {
   "cell_type": "code",
   "execution_count": 2,
   "id": "4cda7745",
   "metadata": {},
   "outputs": [
    {
     "name": "stdout",
     "output_type": "stream",
     "text": [
      "Hello World\n",
      "Enter y for more calculation = y\n",
      "Hello World\n",
      "Enter y for more calculation = y\n",
      "Hello World\n",
      "Enter y for more calculation = asdas\n"
     ]
    }
   ],
   "source": [
    "def hello():\n",
    "    print(\"Hello World\")\n",
    "    x = input(\"Enter y for more print = \")\n",
    "    if x == 'y':\n",
    "        hello()\n",
    "    \n",
    "hello()"
   ]
  },
  {
   "cell_type": "code",
   "execution_count": 3,
   "id": "344c8f21",
   "metadata": {},
   "outputs": [
    {
     "name": "stdout",
     "output_type": "stream",
     "text": [
      "Enter l = 100\n",
      "Enter b = 10\n",
      "1000\n",
      "Press Enter for more calculation.\n",
      "Enter l = 10\n",
      "Enter b = 3\n",
      "30\n",
      "Press Enter for more calculation.sfsd\n"
     ]
    }
   ],
   "source": [
    "def area():\n",
    "    l = int(input(\"Enter l = \"))      \n",
    "    b = int(input(\"Enter b = \"))\n",
    "    a = l*b\n",
    "    print(a)\n",
    "    x = input(\"Press Enter for more calculation.\")\n",
    "    if x == '':\n",
    "        area()\n",
    "    \n",
    "area()"
   ]
  },
  {
   "cell_type": "code",
   "execution_count": 7,
   "id": "69ffcf22",
   "metadata": {},
   "outputs": [
    {
     "name": "stdout",
     "output_type": "stream",
     "text": [
      "Enter product name = Apple\n",
      "Enter price = 100\n",
      "Enter quantity = 3\n",
      "Press Enter for more product = \n",
      "Enter product name = Banana\n",
      "Enter price = 100\n",
      "Enter quantity = 3\n",
      "Press Enter for more product = sdfdf\n",
      "Apple 100 3 300\n",
      "Banana 100 3 300\n",
      "\n",
      "All total =  600\n"
     ]
    }
   ],
   "source": [
    "s = str()\n",
    "all_total = 0\n",
    "def bill():\n",
    "    global s,all_total\n",
    "    name = input(\"Enter product name = \")\n",
    "    price  = int(input(\"Enter price = \"))\n",
    "    quantity  = int(input(\"Enter quantity = \"))\n",
    "    total = price*quantity\n",
    "    all_total = all_total + total\n",
    "    s = s + f\"{name} {price} {quantity} {total}\\n\"\n",
    "    \n",
    "    x = input(\"Press Enter for more product = \")\n",
    "    if x == \"\":\n",
    "        bill()\n",
    "   \n",
    "bill()\n",
    "print(s)\n",
    "print(\"All total = \",all_total)"
   ]
  },
  {
   "cell_type": "code",
   "execution_count": null,
   "id": "078c90ea",
   "metadata": {},
   "outputs": [],
   "source": [
    "def area(x):\n",
    "     l,b = x\n",
    "#     l = a[0]\n",
    "#     b = a[1]\n",
    "    a = l*b\n",
    "    print(a)\n",
    "\n",
    "l = int(input(\"Enter l = \"))\n",
    "b = int(input(\"Enter b = \"))\n",
    "x = [l,b]\n",
    "area(x)"
   ]
  },
  {
   "cell_type": "code",
   "execution_count": 8,
   "id": "e8fb1535",
   "metadata": {},
   "outputs": [
    {
     "name": "stdout",
     "output_type": "stream",
     "text": [
      "Enter name = Ram\n",
      "Enter age = 78\n",
      "Hello World I am Ram. I am 78\n"
     ]
    }
   ],
   "source": [
    "def info(data):\n",
    "#     na = data['name']\n",
    "#     ag = data['age']\n",
    "    print(f\"Hello World I am {data['name']}. I am {data['age']}\")\n",
    "\n",
    "name = input(\"Enter name = \")\n",
    "age = int(input(\"Enter age = \"))\n",
    "d = {'name':name,'age':age}\n",
    "info(d)"
   ]
  },
  {
   "cell_type": "code",
   "execution_count": null,
   "id": "9edd2b21",
   "metadata": {},
   "outputs": [],
   "source": [
    "def info(data):\n",
    "#     na = data['name']\n",
    "#     ag = data['age']\n",
    "    print(f\"Hello World I am {input(\"Enter name = \")}. I am {int(input(\"Enter age = \"))}\")\n",
    "\n",
    "\n",
    "info()"
   ]
  },
  {
   "cell_type": "code",
   "execution_count": null,
   "id": "d39d554c",
   "metadata": {},
   "outputs": [],
   "source": [
    "import mysql.connector  #importing database\n",
    "database = mysql.connector.connect(\n",
    "    host=\"localhost\",\n",
    "    user=\"root\",\n",
    "    password=\"\",\n",
    "    database = \"pythonclass8am\"\n",
    ")\n",
    "db = database.cursor()\n",
    "\n",
    "def read():\n",
    "    db.execute(\"SELECT * FROM student\")\n",
    "    result = db.fetchall()\n",
    "    print(result)\n",
    "    \n",
    "def insert():\n",
    "    c = int(input(\"Enter c = \"))\n",
    "    for i in range(c):\n",
    "        name = input(\"Enter name = \")\n",
    "        physics = int(input(\"Enter physics marks = \"))\n",
    "        chemistry = int(input(\"Enter chemistry marks = \"))\n",
    "        math = int(input(\"Enter math marks = \"))\n",
    "        english = int(input(\"Enter english marks = \"))\n",
    "        nepali = int(input(\"Enter nepali marks = \"))\n",
    "\n",
    "        total = physics + chemistry + math + english + nepali\n",
    "        per = total/5\n",
    "\n",
    "        if per >= 80:\n",
    "            grade = \"A\"\n",
    "        elif per >=60:\n",
    "            grade = \"B\"\n",
    "        elif per >= 45:\n",
    "            grade = \"C\"\n",
    "        else:\n",
    "            grade = \"F\"\n",
    "\n",
    "        print(\"Your Total = \",total)\n",
    "        print(\"Your Per = \",per)\n",
    "        print(\"Your Grade = \",grade)\n",
    "\n",
    "        sql = f'''INSERT INTO student ( name, physics, chemistry, math, english, nepali, total, per, grade) \n",
    "        VALUES ('{name}', {physics}, {chemistry}, {math}, {english}, {nepali}, {total}, {per}, '{grade}')'''\n",
    "        db.execute(sql)\n",
    "    database.commit()\n",
    "    \n",
    "def update():\n",
    "    value = input(\"Enter value = \")\n",
    "    sn = int(input(\"Enter sn = \"))\n",
    "    field_name = input(\"Enter field like name or grade \")\n",
    "    sql = f'''UPDATE  student SET {field_name} = '{value}' WHERE sn = {sn}'''\n",
    "    db.execute(sql)\n",
    "    database.commit()\n",
    "    \n",
    "def delete():\n",
    "    sn = int(input(\"Enter sn = \"))\n",
    "    sql = f'''DELETE FROM student WHERE sn = {sn}'''\n",
    "    db.execute(sql)\n",
    "    database.commit()\n",
    "    \n",
    "    \n",
    "\n",
    "x = int(input(\"1 for read 2 for insert 3 for update 4 for delete\"))\n",
    "if x == 1:\n",
    "    read()\n",
    "elif x ==2:\n",
    "    insert()\n",
    "elif x == 3:\n",
    "    update()\n",
    "elif x ==4:\n",
    "    delete()\n",
    "else:\n",
    "    print(\"Enter 1 - 4 value only\")"
   ]
  },
  {
   "cell_type": "code",
   "execution_count": null,
   "id": "218d9875",
   "metadata": {},
   "outputs": [],
   "source": [
    "import mysql.connector  #importing database\n",
    "database = mysql.connector.connect(\n",
    "    host=\"localhost\",\n",
    "    user=\"root\",\n",
    "    password=\"\",\n",
    "    database = \"pythonclass8am\"\n",
    ")\n",
    "db = database.cursor()"
   ]
  },
  {
   "cell_type": "code",
   "execution_count": 9,
   "id": "aaa20420",
   "metadata": {},
   "outputs": [],
   "source": [
    "def read():\n",
    "    db.execute(\"SELECT * FROM student\")\n",
    "    result = db.fetchall()\n",
    "    print(result)\n",
    "    \n",
    "def insert():\n",
    "    c = int(input(\"Enter c = \"))\n",
    "    for i in range(c):\n",
    "        name = input(\"Enter name = \")\n",
    "        physics = int(input(\"Enter physics marks = \"))\n",
    "        chemistry = int(input(\"Enter chemistry marks = \"))\n",
    "        math = int(input(\"Enter math marks = \"))\n",
    "        english = int(input(\"Enter english marks = \"))\n",
    "        nepali = int(input(\"Enter nepali marks = \"))\n",
    "\n",
    "        total = physics + chemistry + math + english + nepali\n",
    "        per = total/5\n",
    "\n",
    "        if per >= 80:\n",
    "            grade = \"A\"\n",
    "        elif per >=60:\n",
    "            grade = \"B\"\n",
    "        elif per >= 45:\n",
    "            grade = \"C\"\n",
    "        else:\n",
    "            grade = \"F\"\n",
    "\n",
    "        print(\"Your Total = \",total)\n",
    "        print(\"Your Per = \",per)\n",
    "        print(\"Your Grade = \",grade)\n",
    "\n",
    "        sql = f'''INSERT INTO student ( name, physics, chemistry, math, english, nepali, total, per, grade) \n",
    "        VALUES ('{name}', {physics}, {chemistry}, {math}, {english}, {nepali}, {total}, {per}, '{grade}')'''\n",
    "        db.execute(sql)\n",
    "    database.commit()\n",
    "    \n",
    "def update():\n",
    "    value = input(\"Enter value = \")\n",
    "    sn = int(input(\"Enter sn = \"))\n",
    "    field_name = input(\"Enter field like name or grade \")\n",
    "    sql = f'''UPDATE  student SET {field_name} = '{value}' WHERE sn = {sn}'''\n",
    "    db.execute(sql)\n",
    "    database.commit()\n",
    "    \n",
    "def delete():\n",
    "    sn = int(input(\"Enter sn = \"))\n",
    "    sql = f'''DELETE FROM student WHERE sn = {sn}'''\n",
    "    db.execute(sql)\n",
    "    database.commit()"
   ]
  },
  {
   "cell_type": "code",
   "execution_count": null,
   "id": "7362450c",
   "metadata": {},
   "outputs": [
    {
     "name": "stdout",
     "output_type": "stream",
     "text": [
      "1 for read 2 for insert 3 for update 4 for delete4\n"
     ]
    }
   ],
   "source": [
    "x = int(input(\"1 for read 2 for insert 3 for update 4 for delete\"))\n",
    "if x == 1:\n",
    "    read()\n",
    "elif x ==2:\n",
    "    insert()\n",
    "elif x == 3:\n",
    "    update()\n",
    "elif x ==4:\n",
    "    delete()\n",
    "else:\n",
    "    print(\"Enter 1 - 4 value only\")"
   ]
  },
  {
   "cell_type": "code",
   "execution_count": 2,
   "id": "4d703d49",
   "metadata": {},
   "outputs": [
    {
     "data": {
      "text/plain": [
       "120"
      ]
     },
     "execution_count": 2,
     "metadata": {},
     "output_type": "execute_result"
    }
   ],
   "source": [
    "# Math function\n",
    "import math as m\n",
    "m.factorial(5)"
   ]
  },
  {
   "cell_type": "code",
   "execution_count": 3,
   "id": "58ec701b",
   "metadata": {},
   "outputs": [
    {
     "data": {
      "text/plain": [
       "0.8939966636005579"
      ]
     },
     "execution_count": 3,
     "metadata": {},
     "output_type": "execute_result"
    }
   ],
   "source": [
    "m.sin(90)"
   ]
  },
  {
   "cell_type": "code",
   "execution_count": 5,
   "id": "0e103f3a",
   "metadata": {},
   "outputs": [
    {
     "data": {
      "text/plain": [
       "3.141592653589793"
      ]
     },
     "execution_count": 5,
     "metadata": {},
     "output_type": "execute_result"
    }
   ],
   "source": [
    "m.pi"
   ]
  },
  {
   "cell_type": "code",
   "execution_count": 6,
   "id": "3d6915a1",
   "metadata": {},
   "outputs": [
    {
     "data": {
      "text/plain": [
       "1.0"
      ]
     },
     "execution_count": 6,
     "metadata": {},
     "output_type": "execute_result"
    }
   ],
   "source": [
    "m.sin(m.pi/2)"
   ]
  },
  {
   "cell_type": "code",
   "execution_count": null,
   "id": "8b8da3e9",
   "metadata": {},
   "outputs": [],
   "source": []
  }
 ],
 "metadata": {
  "kernelspec": {
   "display_name": "Python 3 (ipykernel)",
   "language": "python",
   "name": "python3"
  },
  "language_info": {
   "codemirror_mode": {
    "name": "ipython",
    "version": 3
   },
   "file_extension": ".py",
   "mimetype": "text/x-python",
   "name": "python",
   "nbconvert_exporter": "python",
   "pygments_lexer": "ipython3",
   "version": "3.9.12"
  }
 },
 "nbformat": 4,
 "nbformat_minor": 5
}
